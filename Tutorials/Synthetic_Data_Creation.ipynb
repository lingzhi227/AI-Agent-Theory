{
  "nbformat": 4,
  "nbformat_minor": 0,
  "metadata": {
    "colab": {
      "provenance": []
    },
    "kernelspec": {
      "name": "python3",
      "display_name": "Python 3"
    },
    "language_info": {
      "name": "python"
    }
  },
  "cells": [
    {
      "cell_type": "markdown",
      "source": [
        "In this notebook, we'll walk through the basics of preparing your data for use with SDV. This includes loading your dataset and creating a metadata description for your tables. You can download the files used in this tutorial from the following link:\n",
        "https://drive.google.com/drive/folders/1WRcrmDT_S9xq9CpqzD7WxSpWbLkwadAe?usp=sharing"
      ],
      "metadata": {
        "id": "6uyUZ0zdv8Pn"
      }
    },
    {
      "cell_type": "markdown",
      "source": [
        "# 1. Installing the dependencies\n",
        "We will first install the ***sdv*** library."
      ],
      "metadata": {
        "id": "ToH5dWaMs-fK"
      }
    },
    {
      "cell_type": "code",
      "execution_count": null,
      "metadata": {
        "colab": {
          "base_uri": "https://localhost:8080/"
        },
        "collapsed": true,
        "id": "L2VyoP-6bL70",
        "outputId": "9132555d-16cd-4885-d6aa-727e3dd2f3e8"
      },
      "outputs": [
        {
          "output_type": "stream",
          "name": "stdout",
          "text": [
            "Collecting sdv\n",
            "  Downloading sdv-1.21.0-py3-none-any.whl.metadata (14 kB)\n",
            "Collecting boto3<2.0.0,>=1.28 (from sdv)\n",
            "  Downloading boto3-1.38.23-py3-none-any.whl.metadata (6.6 kB)\n",
            "Collecting botocore<2.0.0,>=1.31 (from sdv)\n",
            "  Downloading botocore-1.38.23-py3-none-any.whl.metadata (5.7 kB)\n",
            "Requirement already satisfied: cloudpickle>=2.1.0 in /usr/local/lib/python3.11/dist-packages (from sdv) (3.1.1)\n",
            "Requirement already satisfied: graphviz>=0.13.2 in /usr/local/lib/python3.11/dist-packages (from sdv) (0.20.3)\n",
            "Requirement already satisfied: numpy>=1.24.0 in /usr/local/lib/python3.11/dist-packages (from sdv) (2.0.2)\n",
            "Requirement already satisfied: pandas>=1.5.0 in /usr/local/lib/python3.11/dist-packages (from sdv) (2.2.2)\n",
            "Requirement already satisfied: tqdm>=4.29 in /usr/local/lib/python3.11/dist-packages (from sdv) (4.67.1)\n",
            "Collecting copulas>=0.12.1 (from sdv)\n",
            "  Downloading copulas-0.12.2-py3-none-any.whl.metadata (9.4 kB)\n",
            "Collecting ctgan>=0.11.0 (from sdv)\n",
            "  Downloading ctgan-0.11.0-py3-none-any.whl.metadata (10 kB)\n",
            "Collecting deepecho>=0.7.0 (from sdv)\n",
            "  Downloading deepecho-0.7.0-py3-none-any.whl.metadata (10 kB)\n",
            "Collecting rdt>=1.17.0 (from sdv)\n",
            "  Downloading rdt-1.17.0-py3-none-any.whl.metadata (10 kB)\n",
            "Collecting sdmetrics>=0.20.1 (from sdv)\n",
            "  Downloading sdmetrics-0.20.1-py3-none-any.whl.metadata (9.4 kB)\n",
            "Requirement already satisfied: platformdirs>=4.0 in /usr/local/lib/python3.11/dist-packages (from sdv) (4.3.8)\n",
            "Requirement already satisfied: pyyaml>=6.0.1 in /usr/local/lib/python3.11/dist-packages (from sdv) (6.0.2)\n",
            "Collecting jmespath<2.0.0,>=0.7.1 (from boto3<2.0.0,>=1.28->sdv)\n",
            "  Downloading jmespath-1.0.1-py3-none-any.whl.metadata (7.6 kB)\n",
            "Collecting s3transfer<0.14.0,>=0.13.0 (from boto3<2.0.0,>=1.28->sdv)\n",
            "  Downloading s3transfer-0.13.0-py3-none-any.whl.metadata (1.7 kB)\n",
            "Requirement already satisfied: python-dateutil<3.0.0,>=2.1 in /usr/local/lib/python3.11/dist-packages (from botocore<2.0.0,>=1.31->sdv) (2.9.0.post0)\n",
            "Requirement already satisfied: urllib3!=2.2.0,<3,>=1.25.4 in /usr/local/lib/python3.11/dist-packages (from botocore<2.0.0,>=1.31->sdv) (2.4.0)\n",
            "Requirement already satisfied: plotly>=5.10.0 in /usr/local/lib/python3.11/dist-packages (from copulas>=0.12.1->sdv) (5.24.1)\n",
            "Requirement already satisfied: scipy>=1.9.2 in /usr/local/lib/python3.11/dist-packages (from copulas>=0.12.1->sdv) (1.15.3)\n",
            "Requirement already satisfied: torch>=2.0.0 in /usr/local/lib/python3.11/dist-packages (from ctgan>=0.11.0->sdv) (2.6.0+cu124)\n",
            "Requirement already satisfied: pytz>=2020.1 in /usr/local/lib/python3.11/dist-packages (from pandas>=1.5.0->sdv) (2025.2)\n",
            "Requirement already satisfied: tzdata>=2022.7 in /usr/local/lib/python3.11/dist-packages (from pandas>=1.5.0->sdv) (2025.2)\n",
            "Requirement already satisfied: scikit-learn>=1.1.3 in /usr/local/lib/python3.11/dist-packages (from rdt>=1.17.0->sdv) (1.6.1)\n",
            "Collecting Faker>=17 (from rdt>=1.17.0->sdv)\n",
            "  Downloading faker-37.3.0-py3-none-any.whl.metadata (15 kB)\n",
            "Requirement already satisfied: tenacity>=6.2.0 in /usr/local/lib/python3.11/dist-packages (from plotly>=5.10.0->copulas>=0.12.1->sdv) (9.1.2)\n",
            "Requirement already satisfied: packaging in /usr/local/lib/python3.11/dist-packages (from plotly>=5.10.0->copulas>=0.12.1->sdv) (24.2)\n",
            "Requirement already satisfied: six>=1.5 in /usr/local/lib/python3.11/dist-packages (from python-dateutil<3.0.0,>=2.1->botocore<2.0.0,>=1.31->sdv) (1.17.0)\n",
            "Requirement already satisfied: joblib>=1.2.0 in /usr/local/lib/python3.11/dist-packages (from scikit-learn>=1.1.3->rdt>=1.17.0->sdv) (1.5.0)\n",
            "Requirement already satisfied: threadpoolctl>=3.1.0 in /usr/local/lib/python3.11/dist-packages (from scikit-learn>=1.1.3->rdt>=1.17.0->sdv) (3.6.0)\n",
            "Requirement already satisfied: filelock in /usr/local/lib/python3.11/dist-packages (from torch>=2.0.0->ctgan>=0.11.0->sdv) (3.18.0)\n",
            "Requirement already satisfied: typing-extensions>=4.10.0 in /usr/local/lib/python3.11/dist-packages (from torch>=2.0.0->ctgan>=0.11.0->sdv) (4.13.2)\n",
            "Requirement already satisfied: networkx in /usr/local/lib/python3.11/dist-packages (from torch>=2.0.0->ctgan>=0.11.0->sdv) (3.4.2)\n",
            "Requirement already satisfied: jinja2 in /usr/local/lib/python3.11/dist-packages (from torch>=2.0.0->ctgan>=0.11.0->sdv) (3.1.6)\n",
            "Requirement already satisfied: fsspec in /usr/local/lib/python3.11/dist-packages (from torch>=2.0.0->ctgan>=0.11.0->sdv) (2025.3.2)\n",
            "Collecting nvidia-cuda-nvrtc-cu12==12.4.127 (from torch>=2.0.0->ctgan>=0.11.0->sdv)\n",
            "  Downloading nvidia_cuda_nvrtc_cu12-12.4.127-py3-none-manylinux2014_x86_64.whl.metadata (1.5 kB)\n",
            "Collecting nvidia-cuda-runtime-cu12==12.4.127 (from torch>=2.0.0->ctgan>=0.11.0->sdv)\n",
            "  Downloading nvidia_cuda_runtime_cu12-12.4.127-py3-none-manylinux2014_x86_64.whl.metadata (1.5 kB)\n",
            "Collecting nvidia-cuda-cupti-cu12==12.4.127 (from torch>=2.0.0->ctgan>=0.11.0->sdv)\n",
            "  Downloading nvidia_cuda_cupti_cu12-12.4.127-py3-none-manylinux2014_x86_64.whl.metadata (1.6 kB)\n",
            "Collecting nvidia-cudnn-cu12==9.1.0.70 (from torch>=2.0.0->ctgan>=0.11.0->sdv)\n",
            "  Downloading nvidia_cudnn_cu12-9.1.0.70-py3-none-manylinux2014_x86_64.whl.metadata (1.6 kB)\n",
            "Collecting nvidia-cublas-cu12==12.4.5.8 (from torch>=2.0.0->ctgan>=0.11.0->sdv)\n",
            "  Downloading nvidia_cublas_cu12-12.4.5.8-py3-none-manylinux2014_x86_64.whl.metadata (1.5 kB)\n",
            "Collecting nvidia-cufft-cu12==11.2.1.3 (from torch>=2.0.0->ctgan>=0.11.0->sdv)\n",
            "  Downloading nvidia_cufft_cu12-11.2.1.3-py3-none-manylinux2014_x86_64.whl.metadata (1.5 kB)\n",
            "Collecting nvidia-curand-cu12==10.3.5.147 (from torch>=2.0.0->ctgan>=0.11.0->sdv)\n",
            "  Downloading nvidia_curand_cu12-10.3.5.147-py3-none-manylinux2014_x86_64.whl.metadata (1.5 kB)\n",
            "Collecting nvidia-cusolver-cu12==11.6.1.9 (from torch>=2.0.0->ctgan>=0.11.0->sdv)\n",
            "  Downloading nvidia_cusolver_cu12-11.6.1.9-py3-none-manylinux2014_x86_64.whl.metadata (1.6 kB)\n",
            "Collecting nvidia-cusparse-cu12==12.3.1.170 (from torch>=2.0.0->ctgan>=0.11.0->sdv)\n",
            "  Downloading nvidia_cusparse_cu12-12.3.1.170-py3-none-manylinux2014_x86_64.whl.metadata (1.6 kB)\n",
            "Requirement already satisfied: nvidia-cusparselt-cu12==0.6.2 in /usr/local/lib/python3.11/dist-packages (from torch>=2.0.0->ctgan>=0.11.0->sdv) (0.6.2)\n",
            "Requirement already satisfied: nvidia-nccl-cu12==2.21.5 in /usr/local/lib/python3.11/dist-packages (from torch>=2.0.0->ctgan>=0.11.0->sdv) (2.21.5)\n",
            "Requirement already satisfied: nvidia-nvtx-cu12==12.4.127 in /usr/local/lib/python3.11/dist-packages (from torch>=2.0.0->ctgan>=0.11.0->sdv) (12.4.127)\n",
            "Collecting nvidia-nvjitlink-cu12==12.4.127 (from torch>=2.0.0->ctgan>=0.11.0->sdv)\n",
            "  Downloading nvidia_nvjitlink_cu12-12.4.127-py3-none-manylinux2014_x86_64.whl.metadata (1.5 kB)\n",
            "Requirement already satisfied: triton==3.2.0 in /usr/local/lib/python3.11/dist-packages (from torch>=2.0.0->ctgan>=0.11.0->sdv) (3.2.0)\n",
            "Requirement already satisfied: sympy==1.13.1 in /usr/local/lib/python3.11/dist-packages (from torch>=2.0.0->ctgan>=0.11.0->sdv) (1.13.1)\n",
            "Requirement already satisfied: mpmath<1.4,>=1.1.0 in /usr/local/lib/python3.11/dist-packages (from sympy==1.13.1->torch>=2.0.0->ctgan>=0.11.0->sdv) (1.3.0)\n",
            "Requirement already satisfied: MarkupSafe>=2.0 in /usr/local/lib/python3.11/dist-packages (from jinja2->torch>=2.0.0->ctgan>=0.11.0->sdv) (3.0.2)\n",
            "Downloading sdv-1.21.0-py3-none-any.whl (159 kB)\n",
            "\u001b[2K   \u001b[90m━━━━━━━━━━━━━━━━━━━━━━━━━━━━━━━━━━━━━━━━\u001b[0m \u001b[32m159.5/159.5 kB\u001b[0m \u001b[31m5.0 MB/s\u001b[0m eta \u001b[36m0:00:00\u001b[0m\n",
            "\u001b[?25hDownloading boto3-1.38.23-py3-none-any.whl (139 kB)\n",
            "\u001b[2K   \u001b[90m━━━━━━━━━━━━━━━━━━━━━━━━━━━━━━━━━━━━━━━━\u001b[0m \u001b[32m139.9/139.9 kB\u001b[0m \u001b[31m9.7 MB/s\u001b[0m eta \u001b[36m0:00:00\u001b[0m\n",
            "\u001b[?25hDownloading botocore-1.38.23-py3-none-any.whl (13.6 MB)\n",
            "\u001b[2K   \u001b[90m━━━━━━━━━━━━━━━━━━━━━━━━━━━━━━━━━━━━━━━━\u001b[0m \u001b[32m13.6/13.6 MB\u001b[0m \u001b[31m54.1 MB/s\u001b[0m eta \u001b[36m0:00:00\u001b[0m\n",
            "\u001b[?25hDownloading copulas-0.12.2-py3-none-any.whl (52 kB)\n",
            "\u001b[2K   \u001b[90m━━━━━━━━━━━━━━━━━━━━━━━━━━━━━━━━━━━━━━━━\u001b[0m \u001b[32m52.5/52.5 kB\u001b[0m \u001b[31m3.9 MB/s\u001b[0m eta \u001b[36m0:00:00\u001b[0m\n",
            "\u001b[?25hDownloading ctgan-0.11.0-py3-none-any.whl (24 kB)\n",
            "Downloading deepecho-0.7.0-py3-none-any.whl (27 kB)\n",
            "Downloading rdt-1.17.0-py3-none-any.whl (73 kB)\n",
            "\u001b[2K   \u001b[90m━━━━━━━━━━━━━━━━━━━━━━━━━━━━━━━━━━━━━━━━\u001b[0m \u001b[32m73.8/73.8 kB\u001b[0m \u001b[31m5.4 MB/s\u001b[0m eta \u001b[36m0:00:00\u001b[0m\n",
            "\u001b[?25hDownloading sdmetrics-0.20.1-py3-none-any.whl (193 kB)\n",
            "\u001b[2K   \u001b[90m━━━━━━━━━━━━━━━━━━━━━━━━━━━━━━━━━━━━━━━━\u001b[0m \u001b[32m193.4/193.4 kB\u001b[0m \u001b[31m12.3 MB/s\u001b[0m eta \u001b[36m0:00:00\u001b[0m\n",
            "\u001b[?25hDownloading faker-37.3.0-py3-none-any.whl (1.9 MB)\n",
            "\u001b[2K   \u001b[90m━━━━━━━━━━━━━━━━━━━━━━━━━━━━━━━━━━━━━━━━\u001b[0m \u001b[32m1.9/1.9 MB\u001b[0m \u001b[31m48.8 MB/s\u001b[0m eta \u001b[36m0:00:00\u001b[0m\n",
            "\u001b[?25hDownloading jmespath-1.0.1-py3-none-any.whl (20 kB)\n",
            "Downloading s3transfer-0.13.0-py3-none-any.whl (85 kB)\n",
            "\u001b[2K   \u001b[90m━━━━━━━━━━━━━━━━━━━━━━━━━━━━━━━━━━━━━━━━\u001b[0m \u001b[32m85.2/85.2 kB\u001b[0m \u001b[31m5.8 MB/s\u001b[0m eta \u001b[36m0:00:00\u001b[0m\n",
            "\u001b[?25hDownloading nvidia_cublas_cu12-12.4.5.8-py3-none-manylinux2014_x86_64.whl (363.4 MB)\n",
            "\u001b[2K   \u001b[90m━━━━━━━━━━━━━━━━━━━━━━━━━━━━━━━━━━━━━━━━\u001b[0m \u001b[32m363.4/363.4 MB\u001b[0m \u001b[31m1.3 MB/s\u001b[0m eta \u001b[36m0:00:00\u001b[0m\n",
            "\u001b[?25hDownloading nvidia_cuda_cupti_cu12-12.4.127-py3-none-manylinux2014_x86_64.whl (13.8 MB)\n",
            "\u001b[2K   \u001b[90m━━━━━━━━━━━━━━━━━━━━━━━━━━━━━━━━━━━━━━━━\u001b[0m \u001b[32m13.8/13.8 MB\u001b[0m \u001b[31m103.7 MB/s\u001b[0m eta \u001b[36m0:00:00\u001b[0m\n",
            "\u001b[?25hDownloading nvidia_cuda_nvrtc_cu12-12.4.127-py3-none-manylinux2014_x86_64.whl (24.6 MB)\n",
            "\u001b[2K   \u001b[90m━━━━━━━━━━━━━━━━━━━━━━━━━━━━━━━━━━━━━━━━\u001b[0m \u001b[32m24.6/24.6 MB\u001b[0m \u001b[31m82.4 MB/s\u001b[0m eta \u001b[36m0:00:00\u001b[0m\n",
            "\u001b[?25hDownloading nvidia_cuda_runtime_cu12-12.4.127-py3-none-manylinux2014_x86_64.whl (883 kB)\n",
            "\u001b[2K   \u001b[90m━━━━━━━━━━━━━━━━━━━━━━━━━━━━━━━━━━━━━━━━\u001b[0m \u001b[32m883.7/883.7 kB\u001b[0m \u001b[31m43.0 MB/s\u001b[0m eta \u001b[36m0:00:00\u001b[0m\n",
            "\u001b[?25hDownloading nvidia_cudnn_cu12-9.1.0.70-py3-none-manylinux2014_x86_64.whl (664.8 MB)\n",
            "\u001b[2K   \u001b[90m━━━━━━━━━━━━━━━━━━━━━━━━━━━━━━━━━━━━━━━━\u001b[0m \u001b[32m664.8/664.8 MB\u001b[0m \u001b[31m1.3 MB/s\u001b[0m eta \u001b[36m0:00:00\u001b[0m\n",
            "\u001b[?25hDownloading nvidia_cufft_cu12-11.2.1.3-py3-none-manylinux2014_x86_64.whl (211.5 MB)\n",
            "\u001b[2K   \u001b[90m━━━━━━━━━━━━━━━━━━━━━━━━━━━━━━━━━━━━━━━━\u001b[0m \u001b[32m211.5/211.5 MB\u001b[0m \u001b[31m5.6 MB/s\u001b[0m eta \u001b[36m0:00:00\u001b[0m\n",
            "\u001b[?25hDownloading nvidia_curand_cu12-10.3.5.147-py3-none-manylinux2014_x86_64.whl (56.3 MB)\n",
            "\u001b[2K   \u001b[90m━━━━━━━━━━━━━━━━━━━━━━━━━━━━━━━━━━━━━━━━\u001b[0m \u001b[32m56.3/56.3 MB\u001b[0m \u001b[31m12.5 MB/s\u001b[0m eta \u001b[36m0:00:00\u001b[0m\n",
            "\u001b[?25hDownloading nvidia_cusolver_cu12-11.6.1.9-py3-none-manylinux2014_x86_64.whl (127.9 MB)\n",
            "\u001b[2K   \u001b[90m━━━━━━━━━━━━━━━━━━━━━━━━━━━━━━━━━━━━━━━━\u001b[0m \u001b[32m127.9/127.9 MB\u001b[0m \u001b[31m6.8 MB/s\u001b[0m eta \u001b[36m0:00:00\u001b[0m\n",
            "\u001b[?25hDownloading nvidia_cusparse_cu12-12.3.1.170-py3-none-manylinux2014_x86_64.whl (207.5 MB)\n",
            "\u001b[2K   \u001b[90m━━━━━━━━━━━━━━━━━━━━━━━━━━━━━━━━━━━━━━━━\u001b[0m \u001b[32m207.5/207.5 MB\u001b[0m \u001b[31m6.3 MB/s\u001b[0m eta \u001b[36m0:00:00\u001b[0m\n",
            "\u001b[?25hDownloading nvidia_nvjitlink_cu12-12.4.127-py3-none-manylinux2014_x86_64.whl (21.1 MB)\n",
            "\u001b[2K   \u001b[90m━━━━━━━━━━━━━━━━━━━━━━━━━━━━━━━━━━━━━━━━\u001b[0m \u001b[32m21.1/21.1 MB\u001b[0m \u001b[31m96.0 MB/s\u001b[0m eta \u001b[36m0:00:00\u001b[0m\n",
            "\u001b[?25hInstalling collected packages: nvidia-nvjitlink-cu12, nvidia-curand-cu12, nvidia-cufft-cu12, nvidia-cuda-runtime-cu12, nvidia-cuda-nvrtc-cu12, nvidia-cuda-cupti-cu12, nvidia-cublas-cu12, jmespath, Faker, nvidia-cusparse-cu12, nvidia-cudnn-cu12, botocore, s3transfer, rdt, nvidia-cusolver-cu12, copulas, sdmetrics, boto3, deepecho, ctgan, sdv\n",
            "  Attempting uninstall: nvidia-nvjitlink-cu12\n",
            "    Found existing installation: nvidia-nvjitlink-cu12 12.5.82\n",
            "    Uninstalling nvidia-nvjitlink-cu12-12.5.82:\n",
            "      Successfully uninstalled nvidia-nvjitlink-cu12-12.5.82\n",
            "  Attempting uninstall: nvidia-curand-cu12\n",
            "    Found existing installation: nvidia-curand-cu12 10.3.6.82\n",
            "    Uninstalling nvidia-curand-cu12-10.3.6.82:\n",
            "      Successfully uninstalled nvidia-curand-cu12-10.3.6.82\n",
            "  Attempting uninstall: nvidia-cufft-cu12\n",
            "    Found existing installation: nvidia-cufft-cu12 11.2.3.61\n",
            "    Uninstalling nvidia-cufft-cu12-11.2.3.61:\n",
            "      Successfully uninstalled nvidia-cufft-cu12-11.2.3.61\n",
            "  Attempting uninstall: nvidia-cuda-runtime-cu12\n",
            "    Found existing installation: nvidia-cuda-runtime-cu12 12.5.82\n",
            "    Uninstalling nvidia-cuda-runtime-cu12-12.5.82:\n",
            "      Successfully uninstalled nvidia-cuda-runtime-cu12-12.5.82\n",
            "  Attempting uninstall: nvidia-cuda-nvrtc-cu12\n",
            "    Found existing installation: nvidia-cuda-nvrtc-cu12 12.5.82\n",
            "    Uninstalling nvidia-cuda-nvrtc-cu12-12.5.82:\n",
            "      Successfully uninstalled nvidia-cuda-nvrtc-cu12-12.5.82\n",
            "  Attempting uninstall: nvidia-cuda-cupti-cu12\n",
            "    Found existing installation: nvidia-cuda-cupti-cu12 12.5.82\n",
            "    Uninstalling nvidia-cuda-cupti-cu12-12.5.82:\n",
            "      Successfully uninstalled nvidia-cuda-cupti-cu12-12.5.82\n",
            "  Attempting uninstall: nvidia-cublas-cu12\n",
            "    Found existing installation: nvidia-cublas-cu12 12.5.3.2\n",
            "    Uninstalling nvidia-cublas-cu12-12.5.3.2:\n",
            "      Successfully uninstalled nvidia-cublas-cu12-12.5.3.2\n",
            "  Attempting uninstall: nvidia-cusparse-cu12\n",
            "    Found existing installation: nvidia-cusparse-cu12 12.5.1.3\n",
            "    Uninstalling nvidia-cusparse-cu12-12.5.1.3:\n",
            "      Successfully uninstalled nvidia-cusparse-cu12-12.5.1.3\n",
            "  Attempting uninstall: nvidia-cudnn-cu12\n",
            "    Found existing installation: nvidia-cudnn-cu12 9.3.0.75\n",
            "    Uninstalling nvidia-cudnn-cu12-9.3.0.75:\n",
            "      Successfully uninstalled nvidia-cudnn-cu12-9.3.0.75\n",
            "  Attempting uninstall: nvidia-cusolver-cu12\n",
            "    Found existing installation: nvidia-cusolver-cu12 11.6.3.83\n",
            "    Uninstalling nvidia-cusolver-cu12-11.6.3.83:\n",
            "      Successfully uninstalled nvidia-cusolver-cu12-11.6.3.83\n",
            "Successfully installed Faker-37.3.0 boto3-1.38.23 botocore-1.38.23 copulas-0.12.2 ctgan-0.11.0 deepecho-0.7.0 jmespath-1.0.1 nvidia-cublas-cu12-12.4.5.8 nvidia-cuda-cupti-cu12-12.4.127 nvidia-cuda-nvrtc-cu12-12.4.127 nvidia-cuda-runtime-cu12-12.4.127 nvidia-cudnn-cu12-9.1.0.70 nvidia-cufft-cu12-11.2.1.3 nvidia-curand-cu12-10.3.5.147 nvidia-cusolver-cu12-11.6.1.9 nvidia-cusparse-cu12-12.3.1.170 nvidia-nvjitlink-cu12-12.4.127 rdt-1.17.0 s3transfer-0.13.0 sdmetrics-0.20.1 sdv-1.21.0\n"
          ]
        }
      ],
      "source": [
        "!pip install sdv"
      ]
    },
    {
      "cell_type": "markdown",
      "source": [
        "# 2. Loading the CSV file\n",
        "Upload the CSV file for which you want to generate synthetic data. In this tutorial, we’ll use a sample sales dataset, but feel free to upload your own file instead."
      ],
      "metadata": {
        "id": "0X0OnZrKtUHd"
      }
    },
    {
      "cell_type": "markdown",
      "source": [
        "## 2.1 Upload your CSV file"
      ],
      "metadata": {
        "id": "XcYxZHKwtxbS"
      }
    },
    {
      "cell_type": "code",
      "source": [
        "from google.colab import files\n",
        "\n",
        "uploaded = files.upload()"
      ],
      "metadata": {
        "id": "U6murAS8cZWJ"
      },
      "execution_count": null,
      "outputs": []
    },
    {
      "cell_type": "markdown",
      "source": [
        "## 2.2 Loading the data in Python"
      ],
      "metadata": {
        "id": "1PQC0V5Ft4Fz"
      }
    },
    {
      "cell_type": "code",
      "source": [
        "from sdv.io.local import CSVHandler\n",
        "\n",
        "connector = CSVHandler()\n",
        "FOLDER_NAME = '/content/'\n",
        "\n",
        "data = connector.read(folder_name=FOLDER_NAME)"
      ],
      "metadata": {
        "id": "JEgWaAvZrQil"
      },
      "execution_count": null,
      "outputs": []
    },
    {
      "cell_type": "markdown",
      "source": [
        "## 2.3 Inspecting the data"
      ],
      "metadata": {
        "id": "kAgqQ9Vyt66w"
      }
    },
    {
      "cell_type": "code",
      "source": [
        "data.keys()"
      ],
      "metadata": {
        "colab": {
          "base_uri": "https://localhost:8080/"
        },
        "id": "6MDlvO-9rbb5",
        "outputId": "ecfa7b10-1cf2-4465-c709-dba95d3f6595"
      },
      "execution_count": null,
      "outputs": [
        {
          "output_type": "execute_result",
          "data": {
            "text/plain": [
              "dict_keys(['data'])"
            ]
          },
          "metadata": {},
          "execution_count": 7
        }
      ]
    },
    {
      "cell_type": "code",
      "source": [
        "salesDf = data['data']\n",
        "salesDf.head()"
      ],
      "metadata": {
        "colab": {
          "base_uri": "https://localhost:8080/",
          "height": 206
        },
        "id": "s-F8jafSrgUl",
        "outputId": "fc8f1384-f2a5-477c-fd9c-b6efb2174d0d"
      },
      "execution_count": null,
      "outputs": [
        {
          "output_type": "execute_result",
          "data": {
            "text/plain": [
              "  Transaction ID        Date Country         Manufacturer  \\\n",
              "0        T000001  01-01-2024     USA    Aether Industries   \n",
              "1        T000002  01-01-2024     USA    Aether Industries   \n",
              "2        T000003  01-01-2024     USA    Aether Industries   \n",
              "3        T000004  01-01-2024     USA    Aether Industries   \n",
              "4        T000005  01-01-2024     USA  Radiant Innovations   \n",
              "\n",
              "                  Product        Unit     Sales       Channel  \n",
              "0         Rainbow Unicorn   30.453271   3689.97     Wholesale  \n",
              "1  Aetheron Mountain Bike  103.302272  15285.84     Wholesale  \n",
              "2             Lux Cruiser   59.115173  18424.82  Direct Sales  \n",
              "3         Outdoor Speaker   71.057632  13146.93     Wholesale  \n",
              "4          Gaming Headset  288.055057  20054.01  Direct Sales  "
            ],
            "text/html": [
              "\n",
              "  <div id=\"df-9fee9eab-adc2-4288-b95d-98f8b1702258\" class=\"colab-df-container\">\n",
              "    <div>\n",
              "<style scoped>\n",
              "    .dataframe tbody tr th:only-of-type {\n",
              "        vertical-align: middle;\n",
              "    }\n",
              "\n",
              "    .dataframe tbody tr th {\n",
              "        vertical-align: top;\n",
              "    }\n",
              "\n",
              "    .dataframe thead th {\n",
              "        text-align: right;\n",
              "    }\n",
              "</style>\n",
              "<table border=\"1\" class=\"dataframe\">\n",
              "  <thead>\n",
              "    <tr style=\"text-align: right;\">\n",
              "      <th></th>\n",
              "      <th>Transaction ID</th>\n",
              "      <th>Date</th>\n",
              "      <th>Country</th>\n",
              "      <th>Manufacturer</th>\n",
              "      <th>Product</th>\n",
              "      <th>Unit</th>\n",
              "      <th>Sales</th>\n",
              "      <th>Channel</th>\n",
              "    </tr>\n",
              "  </thead>\n",
              "  <tbody>\n",
              "    <tr>\n",
              "      <th>0</th>\n",
              "      <td>T000001</td>\n",
              "      <td>01-01-2024</td>\n",
              "      <td>USA</td>\n",
              "      <td>Aether Industries</td>\n",
              "      <td>Rainbow Unicorn</td>\n",
              "      <td>30.453271</td>\n",
              "      <td>3689.97</td>\n",
              "      <td>Wholesale</td>\n",
              "    </tr>\n",
              "    <tr>\n",
              "      <th>1</th>\n",
              "      <td>T000002</td>\n",
              "      <td>01-01-2024</td>\n",
              "      <td>USA</td>\n",
              "      <td>Aether Industries</td>\n",
              "      <td>Aetheron Mountain Bike</td>\n",
              "      <td>103.302272</td>\n",
              "      <td>15285.84</td>\n",
              "      <td>Wholesale</td>\n",
              "    </tr>\n",
              "    <tr>\n",
              "      <th>2</th>\n",
              "      <td>T000003</td>\n",
              "      <td>01-01-2024</td>\n",
              "      <td>USA</td>\n",
              "      <td>Aether Industries</td>\n",
              "      <td>Lux Cruiser</td>\n",
              "      <td>59.115173</td>\n",
              "      <td>18424.82</td>\n",
              "      <td>Direct Sales</td>\n",
              "    </tr>\n",
              "    <tr>\n",
              "      <th>3</th>\n",
              "      <td>T000004</td>\n",
              "      <td>01-01-2024</td>\n",
              "      <td>USA</td>\n",
              "      <td>Aether Industries</td>\n",
              "      <td>Outdoor Speaker</td>\n",
              "      <td>71.057632</td>\n",
              "      <td>13146.93</td>\n",
              "      <td>Wholesale</td>\n",
              "    </tr>\n",
              "    <tr>\n",
              "      <th>4</th>\n",
              "      <td>T000005</td>\n",
              "      <td>01-01-2024</td>\n",
              "      <td>USA</td>\n",
              "      <td>Radiant Innovations</td>\n",
              "      <td>Gaming Headset</td>\n",
              "      <td>288.055057</td>\n",
              "      <td>20054.01</td>\n",
              "      <td>Direct Sales</td>\n",
              "    </tr>\n",
              "  </tbody>\n",
              "</table>\n",
              "</div>\n",
              "    <div class=\"colab-df-buttons\">\n",
              "\n",
              "  <div class=\"colab-df-container\">\n",
              "    <button class=\"colab-df-convert\" onclick=\"convertToInteractive('df-9fee9eab-adc2-4288-b95d-98f8b1702258')\"\n",
              "            title=\"Convert this dataframe to an interactive table.\"\n",
              "            style=\"display:none;\">\n",
              "\n",
              "  <svg xmlns=\"http://www.w3.org/2000/svg\" height=\"24px\" viewBox=\"0 -960 960 960\">\n",
              "    <path d=\"M120-120v-720h720v720H120Zm60-500h600v-160H180v160Zm220 220h160v-160H400v160Zm0 220h160v-160H400v160ZM180-400h160v-160H180v160Zm440 0h160v-160H620v160ZM180-180h160v-160H180v160Zm440 0h160v-160H620v160Z\"/>\n",
              "  </svg>\n",
              "    </button>\n",
              "\n",
              "  <style>\n",
              "    .colab-df-container {\n",
              "      display:flex;\n",
              "      gap: 12px;\n",
              "    }\n",
              "\n",
              "    .colab-df-convert {\n",
              "      background-color: #E8F0FE;\n",
              "      border: none;\n",
              "      border-radius: 50%;\n",
              "      cursor: pointer;\n",
              "      display: none;\n",
              "      fill: #1967D2;\n",
              "      height: 32px;\n",
              "      padding: 0 0 0 0;\n",
              "      width: 32px;\n",
              "    }\n",
              "\n",
              "    .colab-df-convert:hover {\n",
              "      background-color: #E2EBFA;\n",
              "      box-shadow: 0px 1px 2px rgba(60, 64, 67, 0.3), 0px 1px 3px 1px rgba(60, 64, 67, 0.15);\n",
              "      fill: #174EA6;\n",
              "    }\n",
              "\n",
              "    .colab-df-buttons div {\n",
              "      margin-bottom: 4px;\n",
              "    }\n",
              "\n",
              "    [theme=dark] .colab-df-convert {\n",
              "      background-color: #3B4455;\n",
              "      fill: #D2E3FC;\n",
              "    }\n",
              "\n",
              "    [theme=dark] .colab-df-convert:hover {\n",
              "      background-color: #434B5C;\n",
              "      box-shadow: 0px 1px 3px 1px rgba(0, 0, 0, 0.15);\n",
              "      filter: drop-shadow(0px 1px 2px rgba(0, 0, 0, 0.3));\n",
              "      fill: #FFFFFF;\n",
              "    }\n",
              "  </style>\n",
              "\n",
              "    <script>\n",
              "      const buttonEl =\n",
              "        document.querySelector('#df-9fee9eab-adc2-4288-b95d-98f8b1702258 button.colab-df-convert');\n",
              "      buttonEl.style.display =\n",
              "        google.colab.kernel.accessAllowed ? 'block' : 'none';\n",
              "\n",
              "      async function convertToInteractive(key) {\n",
              "        const element = document.querySelector('#df-9fee9eab-adc2-4288-b95d-98f8b1702258');\n",
              "        const dataTable =\n",
              "          await google.colab.kernel.invokeFunction('convertToInteractive',\n",
              "                                                    [key], {});\n",
              "        if (!dataTable) return;\n",
              "\n",
              "        const docLinkHtml = 'Like what you see? Visit the ' +\n",
              "          '<a target=\"_blank\" href=https://colab.research.google.com/notebooks/data_table.ipynb>data table notebook</a>'\n",
              "          + ' to learn more about interactive tables.';\n",
              "        element.innerHTML = '';\n",
              "        dataTable['output_type'] = 'display_data';\n",
              "        await google.colab.output.renderOutput(dataTable, element);\n",
              "        const docLink = document.createElement('div');\n",
              "        docLink.innerHTML = docLinkHtml;\n",
              "        element.appendChild(docLink);\n",
              "      }\n",
              "    </script>\n",
              "  </div>\n",
              "\n",
              "\n",
              "    <div id=\"df-3a37dc92-6bab-4faf-ae96-d548be079d96\">\n",
              "      <button class=\"colab-df-quickchart\" onclick=\"quickchart('df-3a37dc92-6bab-4faf-ae96-d548be079d96')\"\n",
              "                title=\"Suggest charts\"\n",
              "                style=\"display:none;\">\n",
              "\n",
              "<svg xmlns=\"http://www.w3.org/2000/svg\" height=\"24px\"viewBox=\"0 0 24 24\"\n",
              "     width=\"24px\">\n",
              "    <g>\n",
              "        <path d=\"M19 3H5c-1.1 0-2 .9-2 2v14c0 1.1.9 2 2 2h14c1.1 0 2-.9 2-2V5c0-1.1-.9-2-2-2zM9 17H7v-7h2v7zm4 0h-2V7h2v10zm4 0h-2v-4h2v4z\"/>\n",
              "    </g>\n",
              "</svg>\n",
              "      </button>\n",
              "\n",
              "<style>\n",
              "  .colab-df-quickchart {\n",
              "      --bg-color: #E8F0FE;\n",
              "      --fill-color: #1967D2;\n",
              "      --hover-bg-color: #E2EBFA;\n",
              "      --hover-fill-color: #174EA6;\n",
              "      --disabled-fill-color: #AAA;\n",
              "      --disabled-bg-color: #DDD;\n",
              "  }\n",
              "\n",
              "  [theme=dark] .colab-df-quickchart {\n",
              "      --bg-color: #3B4455;\n",
              "      --fill-color: #D2E3FC;\n",
              "      --hover-bg-color: #434B5C;\n",
              "      --hover-fill-color: #FFFFFF;\n",
              "      --disabled-bg-color: #3B4455;\n",
              "      --disabled-fill-color: #666;\n",
              "  }\n",
              "\n",
              "  .colab-df-quickchart {\n",
              "    background-color: var(--bg-color);\n",
              "    border: none;\n",
              "    border-radius: 50%;\n",
              "    cursor: pointer;\n",
              "    display: none;\n",
              "    fill: var(--fill-color);\n",
              "    height: 32px;\n",
              "    padding: 0;\n",
              "    width: 32px;\n",
              "  }\n",
              "\n",
              "  .colab-df-quickchart:hover {\n",
              "    background-color: var(--hover-bg-color);\n",
              "    box-shadow: 0 1px 2px rgba(60, 64, 67, 0.3), 0 1px 3px 1px rgba(60, 64, 67, 0.15);\n",
              "    fill: var(--button-hover-fill-color);\n",
              "  }\n",
              "\n",
              "  .colab-df-quickchart-complete:disabled,\n",
              "  .colab-df-quickchart-complete:disabled:hover {\n",
              "    background-color: var(--disabled-bg-color);\n",
              "    fill: var(--disabled-fill-color);\n",
              "    box-shadow: none;\n",
              "  }\n",
              "\n",
              "  .colab-df-spinner {\n",
              "    border: 2px solid var(--fill-color);\n",
              "    border-color: transparent;\n",
              "    border-bottom-color: var(--fill-color);\n",
              "    animation:\n",
              "      spin 1s steps(1) infinite;\n",
              "  }\n",
              "\n",
              "  @keyframes spin {\n",
              "    0% {\n",
              "      border-color: transparent;\n",
              "      border-bottom-color: var(--fill-color);\n",
              "      border-left-color: var(--fill-color);\n",
              "    }\n",
              "    20% {\n",
              "      border-color: transparent;\n",
              "      border-left-color: var(--fill-color);\n",
              "      border-top-color: var(--fill-color);\n",
              "    }\n",
              "    30% {\n",
              "      border-color: transparent;\n",
              "      border-left-color: var(--fill-color);\n",
              "      border-top-color: var(--fill-color);\n",
              "      border-right-color: var(--fill-color);\n",
              "    }\n",
              "    40% {\n",
              "      border-color: transparent;\n",
              "      border-right-color: var(--fill-color);\n",
              "      border-top-color: var(--fill-color);\n",
              "    }\n",
              "    60% {\n",
              "      border-color: transparent;\n",
              "      border-right-color: var(--fill-color);\n",
              "    }\n",
              "    80% {\n",
              "      border-color: transparent;\n",
              "      border-right-color: var(--fill-color);\n",
              "      border-bottom-color: var(--fill-color);\n",
              "    }\n",
              "    90% {\n",
              "      border-color: transparent;\n",
              "      border-bottom-color: var(--fill-color);\n",
              "    }\n",
              "  }\n",
              "</style>\n",
              "\n",
              "      <script>\n",
              "        async function quickchart(key) {\n",
              "          const quickchartButtonEl =\n",
              "            document.querySelector('#' + key + ' button');\n",
              "          quickchartButtonEl.disabled = true;  // To prevent multiple clicks.\n",
              "          quickchartButtonEl.classList.add('colab-df-spinner');\n",
              "          try {\n",
              "            const charts = await google.colab.kernel.invokeFunction(\n",
              "                'suggestCharts', [key], {});\n",
              "          } catch (error) {\n",
              "            console.error('Error during call to suggestCharts:', error);\n",
              "          }\n",
              "          quickchartButtonEl.classList.remove('colab-df-spinner');\n",
              "          quickchartButtonEl.classList.add('colab-df-quickchart-complete');\n",
              "        }\n",
              "        (() => {\n",
              "          let quickchartButtonEl =\n",
              "            document.querySelector('#df-3a37dc92-6bab-4faf-ae96-d548be079d96 button');\n",
              "          quickchartButtonEl.style.display =\n",
              "            google.colab.kernel.accessAllowed ? 'block' : 'none';\n",
              "        })();\n",
              "      </script>\n",
              "    </div>\n",
              "\n",
              "    </div>\n",
              "  </div>\n"
            ],
            "application/vnd.google.colaboratory.intrinsic+json": {
              "type": "dataframe",
              "variable_name": "salesDf",
              "summary": "{\n  \"name\": \"salesDf\",\n  \"rows\": 5889,\n  \"fields\": [\n    {\n      \"column\": \"Transaction ID\",\n      \"properties\": {\n        \"dtype\": \"string\",\n        \"num_unique_values\": 5889,\n        \"samples\": [\n          \"T005378\",\n          \"T004335\",\n          \"T000200\"\n        ],\n        \"semantic_type\": \"\",\n        \"description\": \"\"\n      }\n    },\n    {\n      \"column\": \"Date\",\n      \"properties\": {\n        \"dtype\": \"category\",\n        \"num_unique_values\": 366,\n        \"samples\": [\n          \"12-07-2024\",\n          \"03-02-2024\",\n          \"16-01-2024\"\n        ],\n        \"semantic_type\": \"\",\n        \"description\": \"\"\n      }\n    },\n    {\n      \"column\": \"Country\",\n      \"properties\": {\n        \"dtype\": \"category\",\n        \"num_unique_values\": 1,\n        \"samples\": [\n          \"USA\"\n        ],\n        \"semantic_type\": \"\",\n        \"description\": \"\"\n      }\n    },\n    {\n      \"column\": \"Manufacturer\",\n      \"properties\": {\n        \"dtype\": \"category\",\n        \"num_unique_values\": 4,\n        \"samples\": [\n          \"Radiant Innovations\"\n        ],\n        \"semantic_type\": \"\",\n        \"description\": \"\"\n      }\n    },\n    {\n      \"column\": \"Product\",\n      \"properties\": {\n        \"dtype\": \"category\",\n        \"num_unique_values\": 32,\n        \"samples\": [\n          \"Star Road Bike\"\n        ],\n        \"semantic_type\": \"\",\n        \"description\": \"\"\n      }\n    },\n    {\n      \"column\": \"Unit\",\n      \"properties\": {\n        \"dtype\": \"number\",\n        \"std\": 1234.010141859866,\n        \"min\": 29.85614804,\n        \"max\": 5209.233317,\n        \"num_unique_values\": 3012,\n        \"samples\": [\n          3931.693615\n        ],\n        \"semantic_type\": \"\",\n        \"description\": \"\"\n      }\n    },\n    {\n      \"column\": \"Sales\",\n      \"properties\": {\n        \"dtype\": \"number\",\n        \"std\": 43421.06690866911,\n        \"min\": 680.53,\n        \"max\": 198714.16,\n        \"num_unique_values\": 5888,\n        \"samples\": [\n          4844.21\n        ],\n        \"semantic_type\": \"\",\n        \"description\": \"\"\n      }\n    },\n    {\n      \"column\": \"Channel\",\n      \"properties\": {\n        \"dtype\": \"category\",\n        \"num_unique_values\": 2,\n        \"samples\": [\n          \"Direct Sales\"\n        ],\n        \"semantic_type\": \"\",\n        \"description\": \"\"\n      }\n    }\n  ]\n}"
            }
          },
          "metadata": {},
          "execution_count": 8
        }
      ]
    },
    {
      "cell_type": "markdown",
      "source": [
        "# 3. Loading the Metadata file\n",
        "We will now upload the metadata file for the CSV file we uploaded."
      ],
      "metadata": {
        "id": "ssyaHsnMuAMk"
      }
    },
    {
      "cell_type": "markdown",
      "source": [
        "## 3.1 Upload your metadata.json file"
      ],
      "metadata": {
        "id": "iHm1XztYuIO0"
      }
    },
    {
      "cell_type": "code",
      "source": [
        "from google.colab import files\n",
        "\n",
        "uploaded = files.upload()"
      ],
      "metadata": {
        "id": "yuVfplC6rqfM"
      },
      "execution_count": null,
      "outputs": []
    },
    {
      "cell_type": "markdown",
      "source": [
        "## 3.2 Loading the metadata into Python"
      ],
      "metadata": {
        "id": "YmCxcaamuLxA"
      }
    },
    {
      "cell_type": "code",
      "source": [
        "from sdv.metadata import Metadata\n",
        "metadata = Metadata.load_from_json('metadata.json')"
      ],
      "metadata": {
        "id": "Zxn3UMUjrmbV"
      },
      "execution_count": null,
      "outputs": []
    },
    {
      "cell_type": "markdown",
      "source": [
        "## 3.3 (Optional) Creating the metadata using SDV\n",
        "Alternatively, we can use the SDV library to automatically infer the metadata. However, the results may not always be accurate or complete, so you might need to review and update it if there are any discrepancies."
      ],
      "metadata": {
        "id": "FNHtN3WXuamp"
      }
    },
    {
      "cell_type": "code",
      "source": [
        "from sdv.metadata import Metadata\n",
        "\n",
        "metadata = Metadata.detect_from_dataframes(data)"
      ],
      "metadata": {
        "id": "oXGJBR6wugs_"
      },
      "execution_count": null,
      "outputs": []
    },
    {
      "cell_type": "code",
      "source": [
        "print('Auto detected data:\\n')\n",
        "metadata.visualize()"
      ],
      "metadata": {
        "colab": {
          "base_uri": "https://localhost:8080/",
          "height": 300
        },
        "id": "vQ1Dm7g5ukHK",
        "outputId": "0b0c804a-ac44-4498-9aa5-1683bd3b326e"
      },
      "execution_count": null,
      "outputs": [
        {
          "output_type": "stream",
          "name": "stdout",
          "text": [
            "Auto detected data:\n",
            "\n"
          ]
        },
        {
          "output_type": "execute_result",
          "data": {
            "image/svg+xml": "<?xml version=\"1.0\" encoding=\"UTF-8\" standalone=\"no\"?>\n<!DOCTYPE svg PUBLIC \"-//W3C//DTD SVG 1.1//EN\"\n \"http://www.w3.org/Graphics/SVG/1.1/DTD/svg11.dtd\">\n<!-- Generated by graphviz version 2.43.0 (0)\n -->\n<!-- Title: Metadata Pages: 1 -->\n<svg width=\"181pt\" height=\"183pt\"\n viewBox=\"0.00 0.00 181.00 183.00\" xmlns=\"http://www.w3.org/2000/svg\" xmlns:xlink=\"http://www.w3.org/1999/xlink\">\n<g id=\"graph0\" class=\"graph\" transform=\"scale(1 1) rotate(0) translate(4 179)\">\n<title>Metadata</title>\n<polygon fill=\"white\" stroke=\"transparent\" points=\"-4,4 -4,-179 177,-179 177,4 -4,4\"/>\n<!-- data -->\n<g id=\"node1\" class=\"node\">\n<title>data</title>\n<path fill=\"#ffec8b\" stroke=\"black\" d=\"M12,-0.5C12,-0.5 161,-0.5 161,-0.5 167,-0.5 173,-6.5 173,-12.5 173,-12.5 173,-162.5 173,-162.5 173,-168.5 167,-174.5 161,-174.5 161,-174.5 12,-174.5 12,-174.5 6,-174.5 0,-168.5 0,-162.5 0,-162.5 0,-12.5 0,-12.5 0,-6.5 6,-0.5 12,-0.5\"/>\n<text text-anchor=\"middle\" x=\"86.5\" y=\"-159.3\" font-family=\"Times,serif\" font-size=\"14.00\">data</text>\n<polyline fill=\"none\" stroke=\"black\" points=\"0,-151.5 173,-151.5 \"/>\n<text text-anchor=\"start\" x=\"8\" y=\"-136.3\" font-family=\"Times,serif\" font-size=\"14.00\">Transaction ID : id</text>\n<text text-anchor=\"start\" x=\"8\" y=\"-121.3\" font-family=\"Times,serif\" font-size=\"14.00\">Date : categorical</text>\n<text text-anchor=\"start\" x=\"8\" y=\"-106.3\" font-family=\"Times,serif\" font-size=\"14.00\">Country : categorical</text>\n<text text-anchor=\"start\" x=\"8\" y=\"-91.3\" font-family=\"Times,serif\" font-size=\"14.00\">Manufacturer : categorical</text>\n<text text-anchor=\"start\" x=\"8\" y=\"-76.3\" font-family=\"Times,serif\" font-size=\"14.00\">Product : categorical</text>\n<text text-anchor=\"start\" x=\"8\" y=\"-61.3\" font-family=\"Times,serif\" font-size=\"14.00\">Unit : numerical</text>\n<text text-anchor=\"start\" x=\"8\" y=\"-46.3\" font-family=\"Times,serif\" font-size=\"14.00\">Sales : numerical</text>\n<text text-anchor=\"start\" x=\"8\" y=\"-31.3\" font-family=\"Times,serif\" font-size=\"14.00\">Channel : categorical</text>\n<polyline fill=\"none\" stroke=\"black\" points=\"0,-23.5 173,-23.5 \"/>\n<text text-anchor=\"start\" x=\"8\" y=\"-8.3\" font-family=\"Times,serif\" font-size=\"14.00\">Primary key: Transaction ID</text>\n</g>\n</g>\n</svg>\n",
            "text/plain": [
              "<graphviz.graphs.Digraph at 0x7f8d4a2b1850>"
            ]
          },
          "metadata": {},
          "execution_count": 20
        }
      ]
    },
    {
      "cell_type": "markdown",
      "source": [
        "## 3.4 Validating the metadata\n",
        "Let's validate that the metadata format makes sense. If successful, the code below should run without any errors."
      ],
      "metadata": {
        "id": "aVOLXTG1vBr4"
      }
    },
    {
      "cell_type": "code",
      "source": [
        "metadata.validate()"
      ],
      "metadata": {
        "id": "q3CDMvqtsMb0"
      },
      "execution_count": null,
      "outputs": []
    },
    {
      "cell_type": "markdown",
      "source": [
        "# 4. Creating Synthetic Data\n",
        "With these preparatory steps complete, we can now use the metadata and original dataset with SDV. The code below trains a model and generates synthetic data."
      ],
      "metadata": {
        "id": "o4XB_ZwEvLTr"
      }
    },
    {
      "cell_type": "code",
      "source": [
        "from sdv.single_table import GaussianCopulaSynthesizer\n",
        "\n",
        "synthesizer = GaussianCopulaSynthesizer(metadata)\n",
        "synthesizer.fit(data=salesDf)"
      ],
      "metadata": {
        "id": "fmc-eWIWsAkg"
      },
      "execution_count": null,
      "outputs": []
    },
    {
      "cell_type": "markdown",
      "source": [
        "You can specify the number of rows you want the synthesizer to generate using the *num_rows* argument\n"
      ],
      "metadata": {
        "id": "DaXwL5GmvZgD"
      }
    },
    {
      "cell_type": "code",
      "source": [
        "synthetic_data = synthesizer.sample(num_rows=10000)"
      ],
      "metadata": {
        "id": "hsTDD9upsD_a"
      },
      "execution_count": null,
      "outputs": []
    },
    {
      "cell_type": "markdown",
      "source": [
        "## 4.1 Evaluating the synthetic data"
      ],
      "metadata": {
        "id": "9JE6CwHrviJr"
      }
    },
    {
      "cell_type": "code",
      "source": [
        "from sdv.evaluation.single_table import evaluate_quality\n",
        "\n",
        "quality_report = evaluate_quality(\n",
        "    salesDf,\n",
        "    synthetic_data,\n",
        "    metadata)"
      ],
      "metadata": {
        "colab": {
          "base_uri": "https://localhost:8080/"
        },
        "id": "_HhGC_ibsNYy",
        "outputId": "a3bba728-3a76-4b02-8bc2-8655c6330a2a"
      },
      "execution_count": null,
      "outputs": [
        {
          "output_type": "stream",
          "name": "stdout",
          "text": [
            "Generating report ...\n",
            "\n",
            "(1/2) Evaluating Column Shapes: |██████████| 8/8 [00:00<00:00, 49.86it/s]|\n",
            "Column Shapes Score: 97.67%\n",
            "\n",
            "(2/2) Evaluating Column Pair Trends: |██████████| 28/28 [00:00<00:00, 76.39it/s]|\n",
            "Column Pair Trends Score: 89.68%\n",
            "\n",
            "Overall Score (Average): 93.67%\n",
            "\n"
          ]
        }
      ]
    },
    {
      "cell_type": "markdown",
      "source": [
        "## 4.2 Visualizing the synthetic vs. real data distribution"
      ],
      "metadata": {
        "id": "J1aE1er5vmIL"
      }
    },
    {
      "cell_type": "code",
      "source": [
        "from sdv.evaluation.single_table import get_column_plot\n",
        "\n",
        "fig = get_column_plot(\n",
        "    real_data=salesDf,\n",
        "    synthetic_data=synthetic_data,\n",
        "    column_name='Sales',\n",
        "    metadata=metadata\n",
        ")\n",
        "\n",
        "fig.show()"
      ],
      "metadata": {
        "colab": {
          "base_uri": "https://localhost:8080/",
          "height": 542
        },
        "id": "TrzP-OPKsSp4",
        "outputId": "575503e8-8d52-4d16-ae70-fedfae3e4649"
      },
      "execution_count": null,
      "outputs": [
        {
          "output_type": "display_data",
          "data": {
            "text/html": [
              "<html>\n",
              "<head><meta charset=\"utf-8\" /></head>\n",
              "<body>\n",
              "    <div>            <script src=\"https://cdnjs.cloudflare.com/ajax/libs/mathjax/2.7.5/MathJax.js?config=TeX-AMS-MML_SVG\"></script><script type=\"text/javascript\">if (window.MathJax && window.MathJax.Hub && window.MathJax.Hub.Config) {window.MathJax.Hub.Config({SVG: {font: \"STIX-Web\"}});}</script>                <script type=\"text/javascript\">window.PlotlyConfig = {MathJaxConfig: 'local'};</script>\n",
              "        <script charset=\"utf-8\" src=\"https://cdn.plot.ly/plotly-2.35.2.min.js\"></script>                <div id=\"46dff88f-a71c-4bc1-a20f-afd17d00176e\" class=\"plotly-graph-div\" style=\"height:525px; width:100%;\"></div>            <script type=\"text/javascript\">                                    window.PLOTLYENV=window.PLOTLYENV || {};                                    if (document.getElementById(\"46dff88f-a71c-4bc1-a20f-afd17d00176e\")) {                    Plotly.newPlot(                        \"46dff88f-a71c-4bc1-a20f-afd17d00176e\",                        [{\"legendgroup\":\"Real\",\"marker\":{\"color\":\"#000036\"},\"mode\":\"lines\",\"name\":\"Real\",\"showlegend\":true,\"x\":[680.53,1076.59726,1472.66452,1868.73178,2264.79904,2660.8662999999997,3056.9335600000004,3453.00082,3849.06808,4245.13534,4641.2026,5037.26986,5433.33712,5829.40438,6225.471640000001,6621.5389000000005,7017.60616,7413.67342,7809.74068,8205.80794,8601.8752,8997.94246,9394.009720000002,9790.076980000002,10186.144240000001,10582.211500000001,10978.278760000001,11374.34602,11770.413280000002,12166.480540000002,12562.547800000002,12958.615060000002,13354.682320000002,13750.749580000002,14146.816840000001,14542.884100000001,14938.951360000001,15335.018620000003,15731.085880000002,16127.15314,16523.2204,16919.287659999998,17315.354919999998,17711.422179999998,18107.48944,18503.556699999997,18899.62396,19295.691219999997,19691.75848,20087.82574,20483.893,20879.96026,21276.02752,21672.09478,22068.16204,22464.2293,22860.296560000003,23256.36382,23652.431080000002,24048.49834,24444.5656,24840.632859999998,25236.70012,25632.767379999998,26028.83464,26424.9019,26820.96916,27217.03642,27613.10368,28009.17094,28405.2382,28801.30546,29197.37272,29593.43998,29989.507240000003,30385.5745,30781.641760000002,31177.70902,31573.77628,31969.843539999998,32365.910799999998,32761.97806,33158.04532,33554.11258,33950.17984,34346.2471,34742.31436,35138.38161999999,35534.44888,35930.51614,36326.583399999996,36722.65066,37118.71792,37514.78518,37910.852439999995,38306.9197,38702.98696,39099.05422,39495.12148,39891.18874,40287.256,40683.32326,41079.39052,41475.45778,41871.52504,42267.592300000004,42663.65956,43059.726819999996,43455.79408,43851.86134,44247.9286,44643.995859999995,45040.063120000006,45436.13038,45832.19764,46228.264899999995,46624.332160000005,47020.39942,47416.46668,47812.533939999994,48208.601200000005,48604.66846,49000.73572,49396.80298,49792.870240000004,50188.9375,50585.004759999996,50981.07202,51377.13928,51773.20654,52169.2738,52565.34106,52961.40832,53357.47558,53753.54284,54149.6101,54545.67736,54941.744620000005,55337.81188,55733.87914,56129.9464,56526.013660000004,56922.08092,57318.14818,57714.21544,58110.2827,58506.34996,58902.417219999996,59298.48448000001,59694.55174,60090.619,60486.686259999995,60882.753520000006,61278.82078,61674.88804,62070.9553,62467.02256,62863.08982,63259.15708,63655.22434,64051.2916,64447.35886,64843.426120000004,65239.49338,65635.56064,66031.6279,66427.69516,66823.76242,67219.82968,67615.89694,68011.9642,68408.03146000001,68804.09872,69200.16598,69596.23323999999,69992.3005,70388.36776000001,70784.43501999999,71180.50228,71576.56954000001,71972.6368,72368.70406,72764.77132,73160.83858,73556.90584,73952.9731,74349.04036,74745.10762000001,75141.17487999999,75537.24214,75933.3094,76329.37666,76725.44392,77121.51118,77517.57844,77913.64570000001,78309.71296,78705.78022,79101.84748,79497.91474,79893.982,80290.04926,80686.11652,81082.18378,81478.25104,81874.3183,82270.38556,82666.45282,83062.52008,83458.58734,83854.65460000001,84250.72186,84646.78912,85042.85638,85438.92364,85834.9909,86231.05816,86627.12542,87023.19268000001,87419.25994,87815.3272,88211.39446000001,88607.46171999999,89003.52898,89399.59624000001,89795.6635,90191.73076,90587.79801999999,90983.86528,91379.93254000001,91775.99979999999,92172.06706,92568.13432000001,92964.20158,93360.26884,93756.33610000001,94152.40336,94548.47062000001,94944.53787999999,95340.60514,95736.67240000001,96132.73965999999,96528.80692,96924.87418,97320.94144,97717.0087,98113.07596,98509.14322,98905.21048000001,99301.27774,99697.345,100093.41226,100489.47952,100885.54678,101281.61404,101677.6813,102073.74856,102469.81582,102865.88308,103261.95034,103658.0176,104054.08486,104450.15212,104846.21938,105242.28664,105638.3539,106034.42116,106430.48842,106826.55568,107222.62294,107618.6902,108014.75746000001,108410.82472,108806.89198,109202.95924000001,109599.02649999999,109995.09376,110391.16102,110787.22828,111183.29554,111579.3628,111975.43006,112371.49732000001,112767.56457999999,113163.63184,113559.69910000001,113955.76636,114351.83362,114747.90088,115143.96814,115540.03540000001,115936.10265999999,116332.16992,116728.23718000001,117124.30443999999,117520.3717,117916.43896000001,118312.50622,118708.57348,119104.64074,119500.708,119896.77526000001,120292.84251999999,120688.90978,121084.97704000001,121481.0443,121877.11156,122273.17882,122669.24608,123065.31334000001,123461.3806,123857.44786,124253.51512,124649.58238,125045.64964,125441.7169,125837.78416,126233.85142,126629.91868,127025.98594,127422.0532,127818.12046,128214.18772,128610.25498,129006.32224000001,129402.3895,129798.45676,130194.52402,130590.59128,130986.65854,131382.72580000001,131778.79306,132174.86032,132570.92758,132966.99484,133363.0621,133759.12936,134155.19662,134551.26388,134947.33114000002,135343.3984,135739.46566,136135.53292000003,136531.60018,136927.66744,137323.73470000003,137719.80196,138115.86922,138511.93647999997,138908.00374000001,139304.071,139700.13825999998,140096.20552000002,140492.27278,140888.34003999998,141284.40730000002,141680.47456,142076.54181999998,142472.60908000002,142868.67634,143264.7436,143660.81086000003,144056.87812,144452.94538,144849.01264,145245.0799,145641.14716,146037.21442,146433.28168000001,146829.34894,147225.4162,147621.48346000002,148017.55072,148413.61797999998,148809.68524000002,149205.7525,149601.81975999998,149997.88702000002,150393.95428,150790.02154,151186.0888,151582.15606,151978.22332,152374.29058,152770.35784,153166.4251,153562.49236,153958.55962,154354.62688,154750.69414,155146.76140000002,155542.82866,155938.89592,156334.96318,156731.03044,157127.0977,157523.16496,157919.23222,158315.29948,158711.36674,159107.434,159503.50126,159899.56852,160295.63578,160691.70304,161087.7703,161483.83756,161879.90482,162275.97208,162672.03934,163068.1066,163464.17386,163860.24112,164256.30838,164652.37564,165048.4429,165444.51016,165840.57742000002,166236.64468,166632.71194,167028.77920000002,167424.84646,167820.91372,168216.98098,168613.04824,169009.11549999999,169405.18276,169801.25002,170197.31728,170593.38454,170989.4518,171385.51906,171781.58632,172177.65358,172573.72084,172969.7881,173365.85536000002,173761.92262,174157.98988,174554.05714000002,174950.1244,175346.19165999998,175742.25892000002,176138.32618,176534.39343999999,176930.46070000003,177326.52796,177722.59522,178118.66248000003,178514.72974,178910.797,179306.86426,179702.93152,180098.99878,180495.06603999998,180891.13330000002,181287.20056,181683.26781999998,182079.33508000002,182475.40234,182871.46959999998,183267.53686000002,183663.60412,184059.67137999999,184455.73864000003,184851.8059,185247.87316,185643.94042000003,186040.00768,186436.07494,186832.14220000003,187228.20946,187624.27672,188020.34398,188416.41124000002,188812.4785,189208.54575999998,189604.61302000002,190000.68028,190396.74753999998,190792.81480000002,191188.88206,191584.94931999999,191981.01658000002,192377.08384,192773.1511,193169.21836,193565.28562,193961.35288,194357.42014,194753.4874,195149.55466,195545.62192,195941.68918000002,196337.75644,196733.8237,197129.89096000002,197525.95822,197922.02548,198318.09274000002],\"xaxis\":\"x\",\"y\":[6.253689262136217e-6,6.554029819227194e-6,6.856506187008104e-6,7.1602729735015375e-6,7.464464507732866e-6,7.768200882771635e-6,8.07059416961603e-6,8.370754728165853e-6,8.667797540420727e-6,8.96084849121953e-6,9.249050523285456e-6,9.531569596015066e-6,9.807600381275466e-6,0.000010076371634351376,0.000010337151183998756,0.000010589250492172872,0.000010832028741256092,0.000011064896414354312,0.000011287318342291429,0.00001149881619914637,0.000011698970436373486,0.000011887421653578416,0.000012063871411732662,0.00001222808250187148,0.000012379878689019476,0.000012519143957121875,0.00001264582128605558,0.000012759910996295803,0.000012861468700479538,0.000012950602903931474,0.000013027472298194256,0.000013092282792761272,0.000013145284330583423,0.00001318676753255782,0.000013217060215175727,0.000013236523823874108,0.000013245549822478586,0.000013244556076531932,0.000013233983265344688,0.00001321429135437376,0.000013185956156106687,0.000013149466004078698,0.00001310531856105001,0.000013054017778783944,0.000012996071023351207,0.000012931986376491833,0.00001286227012033587,0.000012787424409757123,0.000012707945133832617,0.000012624319965335287,0.000012537026594908506,0.000012446531144574667,0.000012353286753518686,0.000012257732327671367,0.000012160291443482756,0.000012061371395434699,0.000011961362376272994,0.000011860636778642116,0.00001175954860676333,0.000011658432986999205,0.000011557605766573804,0.000011457363190351426,0.000011357981646399118,0.00001125971747203982,0.000011162806813226584,0.000011067465531298488,0.000010973889152493769,0.000010882252856957972,0.000010792711505365587,0.0000107053997026401,0.000010620431899572265,0.000010537902534370281,0.000010457886217293377,0.000010380437962491872,0.000010305593471972692,0.000010233369477207217,0.000010163764144271136,0.000010096757548543441,0.00001003231222487577,9.970373798772906e-6,9.910871703498889e-6,9.8537199871447e-6,9.798818212580829e-6,9.746052451886955e-6,9.695296375326556e-6,9.646412433251116e-6,9.599253127507964e-6,9.55366236703235e-6,9.509476900368713e-6,9.466527815937516e-6,9.424642098986909e-6,9.383644232393906e-6,9.343357826851058e-6,9.303607264542095e-6,9.26421933920764e-6,9.225024874574348e-6,9.18586030249566e-6,9.14656918185618e-6,9.107003639343346e-6,9.067025713603858e-6,9.026508585074758e-6,8.98533767491458e-6,8.943411597938431e-6,8.900642956266832e-6,8.85695896249826e-6,8.812301883581182e-6,8.766629299143591e-6,8.71991417079524e-6,8.672144721796592e-6,8.623324129430378e-6,8.57347003536612e-6,8.522613882208522e-6,8.47080008721474e-6,8.418085066795696e-6,8.36453612782339e-6,8.310230243909628e-6,8.25525273664652e-6,8.199695883272691e-6,8.143657473319865e-6,8.08723933747412e-6,8.030545872144408e-6,7.973682583054633e-6,7.916754670576172e-6,7.859865678493704e-6,7.80311622648122e-6,7.746602844774068e-6,7.690416927404101e-6,7.634643817947351e-6,7.579362039083252e-6,7.524642674418711e-6,7.47054890806152e-6,7.417135724384872e-6,7.364449767380458e-6,7.3125293560041675e-6,7.261404649043954e-6,7.211097950336244e-6,7.161624142681801e-6,7.112991236611844e-6,7.065201018269843e-6,7.018249779144316e-6,6.972129109231029e-6,6.9268267344474215e-6,6.882327378766902e-6,6.83861363159584e-6,6.795666801363827e-6,6.753467737129629e-6,6.711997601187931e-6,6.671238577170599e-6,6.631174499923866e-6,6.5917913954743405e-6,6.553077921613549e-6,6.515025701990759e-6,6.477629549046e-6,6.440887573591789e-6,6.404801181305055e-6,6.369374958774992e-6,6.334616454013691e-6,6.3005358584387295e-6,6.267145599234445e-6,6.2344598526654475e-6,6.202493990321589e-6,6.171263971400128e-6,6.140785694965638e-6,6.111074326664433e-6,6.0821436146097864e-6,6.054005209101153e-6,6.026668000511156e-6,6.00013748908032e-6,5.9744151995298095e-6,5.949498152354157e-6,5.9253784024233575e-6,5.90204265413416e-6,5.8794719608332095e-6,5.857641514624116e-6,5.836520530996354e-6,5.816072231004795e-6,5.7962539220181284e-6,5.777017176363531e-6,5.758308105554477e-6,5.740067726219735e-6,5.722232412373237e-6,5.7047344272993705e-6,5.6875025270894794e-6,5.670462626768937e-6,5.653538519010677e-6,5.636652634652653e-6,5.619726833629765e-6,5.6026832145026285e-6,5.585444930519102e-6,5.567937000086019e-6,5.550087099652182e-6,5.531826327315524e-6,5.513089925957313e-6,5.493817955372907e-6,5.473955903700128e-6,5.453455229434659e-6,5.432273826451308e-6,5.4103764057048625e-6,5.387734788645337e-6,5.364328108828629e-6,5.340142919708604e-6,5.315173208139213e-6,5.289420314659347e-6,5.2628927631604875e-6,5.235606004007765e-6,5.207582076077579e-6,5.178849194456212e-6,5.149441271690159e-6,5.119397381463412e-6,5.088761174381676e-6,5.05758025614826e-6,5.025905538811922e-6,4.993790575942183e-6,4.961290892544214e-6,4.928463320263257e-6,4.895365347959349e-6,4.862054497068457e-6,4.82858773032848e-6,4.79502090145723e-6,4.761408252257223e-6,4.727801962413387e-6,4.694251755981632e-6,4.6608045672693265e-6,4.627504267516561e-6,4.59439145253242e-6,4.561503290252398e-6,4.5288734260892145e-6,4.496531942972729e-6,4.46450537213337e-6,4.432816749992735e-6,4.401485715992717e-6,4.370528645824209e-6,4.339958814306296e-6,4.309786582111959e-6,4.280019600622875e-6,4.25066302941266e-6,4.221719761184341e-6,4.193190649405821e-6,4.165074734374255e-6,4.137369463975407e-6,4.110070905965469e-6,4.083173949169546e-6,4.056672491545974e-6,4.030559613590711e-6,4.004827736040581e-6,3.9794687612650775e-6,3.954474198110926e-6,3.929835270274077e-6,3.905543008524916e-6,3.881588327302893e-6,3.857962086335231e-6,3.8346551380264854e-6,3.811658361421465e-6,3.788962683572907e-6,3.7665590891576453e-6,3.7444386191907875e-6,3.722592359695275e-6,3.701011421202407e-6,3.679686909992027e-6,3.658609892035364e-6,3.6377713506769663e-6,3.617162139188297e-6,3.596772929437522e-6,3.5765941580459477e-6,3.5566159715328676e-6,3.536828172080045e-6,3.5172201656654644e-6,3.497780914413671e-6,3.4784988950777705e-6,3.45936206559699e-6,3.440357841655443e-6,3.4214730850965197e-6,3.402694105918407e-6,3.384006679386598e-6,3.365396079550602e-6,3.3468471301445004e-6,3.3283442734920507e-6,3.3098716576317746e-6,3.2914132414370665e-6,3.272952917041275e-6,3.254474648400689e-6,3.2359626243545133e-6,3.2174014240821397e-6,3.198776192432016e-6,3.180072822213342e-6,3.1612781402185273e-6,3.142380093487595e-6,3.1233679321500317e-6,3.104232385087147e-6,3.0849658246574037e-6,3.0655624168176692e-6,3.046018253155814e-6,3.026331461619571e-6,3.0065022930782198e-6,2.9865331812772255e-6,2.966428774232709e-6,2.9461959356478024e-6,2.9258437155050687e-6,2.9053832895816016e-6,2.8848278682323993e-6,2.8641925753777834e-6,2.8434942991972114e-6,2.8227515165622234e-6,2.8019840937223347e-6,2.7812130661800194e-6,2.760460401045359e-6,2.7397487454409966e-6,2.7191011647305057e-6,2.698540874464698e-6,2.67809096998201e-6,2.657774157563765e-6,2.6376124909340712e-6,2.617627116718082e-6,2.597838032232987e-6,2.578263858696519e-6,2.5589216326039915e-6,2.5398266176579347e-6,2.5209921392441425e-6,2.5024294430430184e-6,2.4841475789568945e-6,2.4661533111287316e-6,2.448451054436159e-6,2.4310428374716817e-6,2.413928291673046e-6,2.3971046659513474e-6,2.3805668658819037e-6,2.3643075162779345e-6,2.3483170457597974e-6,2.332583791764339e-6,2.3170941243086644e-6,2.30183258672869e-6,2.2867820515531956e-6,2.2719238896454577e-6,2.25723815074295e-6,2.242703753548293e-6,2.2282986835653906e-6,2.2140001969312024e-6,2.1997850285599366e-6,2.1856296029890307e-6,2.1715102463911492e-6,2.1574033982899548e-6,2.143285821585748e-6,2.129134809559255e-6,2.1149283885738825e-6,2.100645515239188e-6,2.086266266829478e-6,2.0717720237717297e-6,2.0571456430278905e-6,2.0423716211986373e-6,2.0274362461719916e-6,2.012327736133108e-6,1.9970363647441984e-6,1.981554571300074e-6,1.965877054668456e-6,1.9500008498391708e-6,1.933925385936814e-6,1.9176525246004977e-6,1.9011865777060039e-6,1.8845343035022695e-6,1.8677048803585396e-6,1.8507098574716277e-6,1.8335630820661397e-6,1.8162806028328638e-6,1.7988805495920986e-6,1.7813829894361362e-6,1.7638097598961224e-6,1.7461842799886947e-6,1.7285313403225267e-6,1.7108768737779846e-6,1.6932477086089451e-6,1.6756713061464471e-6,1.6581754856031164e-6,1.6407881387766494e-6,1.6235369377232552e-6,1.606449038710074e-6,1.5895507859525138e-6,1.5728674187914131e-6,1.5564227860605528e-6,1.5402390714323854e-6,1.5243365335054216e-6,1.5087332643076877e-6,1.493444969736289e-6,1.4784847752334264e-6,1.463863059715777e-6,1.4495873204303552e-6,1.43566207101013e-6,1.4220887745527922e-6,1.4088658130533783e-6,1.3959884939939431e-6,1.3834490943410317e-6,1.3712369416335607e-6,1.3593385312712915e-6,1.3477376785476878e-6,1.3364157034220794e-6,1.3253516455052739e-6,1.3145225062506523e-6,1.3039035149092034e-6,1.2934684144304759e-6,1.283189763180325e-6,1.2730392481063998e-6,1.2629880048193048e-6,1.253006939973858e-6,1.2430670513334161e-6,1.2331397409800631e-6,1.223197117293515e-6,1.2132122815579589e-6,1.2031595953640595e-6,1.1930149253463595e-6,1.1827558622264169e-6,1.1723619116105598e-6,1.1618146545077256e-6,1.1510978760773625e-6,1.1401976616783758e-6,1.129102459856461e-6,1.1178031124676784e-6,1.1062928526797052e-6,1.094567272108593e-6,1.082624258828301e-6,1.0704639084241082e-6,1.0580884106415927e-6,1.0455019145041442e-6,1.0327103750285775e-6,1.0197213848574282e-6,1.0065439942456946e-6,9.931885228887876e-7,9.796663670585626e-7,9.659898054278382e-7,9.52171806815034e-7,9.38225842874286e-7,9.241657084993025e-7,9.100053524083614e-7,8.957587200410918e-7,8.814396105341285e-7,8.670615491606352e-7,8.526376762277406e-7,8.3818065303485e-7,8.237025851134094e-7,8.092149626033846e-7,7.947286172809161e-7,7.802536954424559e-7,7.657996455785725e-7,7.513752195406605e-7,7.369884857193506e-7,7.226468526166967e-7,7.083571011063808e-7,6.941254236368479e-7,6.79957468639809e-7,6.65858388458339e-7,6.518328892009879e-7,6.378852810560633e-7,6.240195277580392e-7,6.102392940796591e-7,5.965479904221205e-7,5.82948813784751e-7,5.694447846081747e-7,5.560387791939913e-7,5.427335576035784e-7,5.295317871224508e-7,5.164360615400775e-7,5.034489166335614e-7,4.905728423540637e-7,4.778102922951112e-7,4.651636910706409e-7,4.526354402480301e-7,4.4022792346833976e-7,4.279435113445539e-7,4.15784566661838e-7,4.037534503154236e-7,3.9185252831595527e-7,3.800841800740173e-7,3.6845080805014664e-7,3.569548487291204e-7,3.4559878475296973e-7,3.343851579308838e-7,3.233165827403412e-7,3.123957598464201e-7,3.016254890985722e-7,2.910086814184646e-7,2.805483689705563e-7,2.702477130093861e-7,2.6011000882414945e-7,2.501386872506699e-7,2.403373122916993e-7,2.3070957447601465e-7,2.2125927969167322e-7,2.1199033334559466e-7,2.0290671982632272e-7,1.9401247737509715e-7,1.85311668598202e-7,1.768083469767434e-7,1.6850651984476024e-7,1.6041010840931217e-7,1.5252290547404556e-7,1.4484853159814213e-7,1.3739039047370633e-7,1.301516243354051e-7,1.2313507022599568e-7,1.1634321793038772e-7,1.0977817035994771e-7,1.0344160711911745e-7],\"yaxis\":\"y\",\"type\":\"scatter\",\"fill\":\"tozeroy\",\"hovertemplate\":\"\\u003cb\\u003eReal\\u003c\\u002fb\\u003e\\u003cbr\\u003eFrequency: %{y}\\u003cextra\\u003e\\u003c\\u002fextra\\u003e\"},{\"legendgroup\":\"Synthetic\",\"marker\":{\"color\":\"#01E0C9\"},\"mode\":\"lines\",\"name\":\"Synthetic\",\"showlegend\":true,\"x\":[680.53,1076.59726,1472.66452,1868.73178,2264.79904,2660.8662999999997,3056.9335600000004,3453.00082,3849.06808,4245.13534,4641.2026,5037.26986,5433.33712,5829.40438,6225.471640000001,6621.5389000000005,7017.60616,7413.67342,7809.74068,8205.80794,8601.8752,8997.94246,9394.009720000002,9790.076980000002,10186.144240000001,10582.211500000001,10978.278760000001,11374.34602,11770.413280000002,12166.480540000002,12562.547800000002,12958.615060000002,13354.682320000002,13750.749580000002,14146.816840000001,14542.884100000001,14938.951360000001,15335.018620000003,15731.085880000002,16127.15314,16523.2204,16919.287659999998,17315.354919999998,17711.422179999998,18107.48944,18503.556699999997,18899.62396,19295.691219999997,19691.75848,20087.82574,20483.893,20879.96026,21276.02752,21672.09478,22068.16204,22464.2293,22860.296560000003,23256.36382,23652.431080000002,24048.49834,24444.5656,24840.632859999998,25236.70012,25632.767379999998,26028.83464,26424.9019,26820.96916,27217.03642,27613.10368,28009.17094,28405.2382,28801.30546,29197.37272,29593.43998,29989.507240000003,30385.5745,30781.641760000002,31177.70902,31573.77628,31969.843539999998,32365.910799999998,32761.97806,33158.04532,33554.11258,33950.17984,34346.2471,34742.31436,35138.38161999999,35534.44888,35930.51614,36326.583399999996,36722.65066,37118.71792,37514.78518,37910.852439999995,38306.9197,38702.98696,39099.05422,39495.12148,39891.18874,40287.256,40683.32326,41079.39052,41475.45778,41871.52504,42267.592300000004,42663.65956,43059.726819999996,43455.79408,43851.86134,44247.9286,44643.995859999995,45040.063120000006,45436.13038,45832.19764,46228.264899999995,46624.332160000005,47020.39942,47416.46668,47812.533939999994,48208.601200000005,48604.66846,49000.73572,49396.80298,49792.870240000004,50188.9375,50585.004759999996,50981.07202,51377.13928,51773.20654,52169.2738,52565.34106,52961.40832,53357.47558,53753.54284,54149.6101,54545.67736,54941.744620000005,55337.81188,55733.87914,56129.9464,56526.013660000004,56922.08092,57318.14818,57714.21544,58110.2827,58506.34996,58902.417219999996,59298.48448000001,59694.55174,60090.619,60486.686259999995,60882.753520000006,61278.82078,61674.88804,62070.9553,62467.02256,62863.08982,63259.15708,63655.22434,64051.2916,64447.35886,64843.426120000004,65239.49338,65635.56064,66031.6279,66427.69516,66823.76242,67219.82968,67615.89694,68011.9642,68408.03146000001,68804.09872,69200.16598,69596.23323999999,69992.3005,70388.36776000001,70784.43501999999,71180.50228,71576.56954000001,71972.6368,72368.70406,72764.77132,73160.83858,73556.90584,73952.9731,74349.04036,74745.10762000001,75141.17487999999,75537.24214,75933.3094,76329.37666,76725.44392,77121.51118,77517.57844,77913.64570000001,78309.71296,78705.78022,79101.84748,79497.91474,79893.982,80290.04926,80686.11652,81082.18378,81478.25104,81874.3183,82270.38556,82666.45282,83062.52008,83458.58734,83854.65460000001,84250.72186,84646.78912,85042.85638,85438.92364,85834.9909,86231.05816,86627.12542,87023.19268000001,87419.25994,87815.3272,88211.39446000001,88607.46171999999,89003.52898,89399.59624000001,89795.6635,90191.73076,90587.79801999999,90983.86528,91379.93254000001,91775.99979999999,92172.06706,92568.13432000001,92964.20158,93360.26884,93756.33610000001,94152.40336,94548.47062000001,94944.53787999999,95340.60514,95736.67240000001,96132.73965999999,96528.80692,96924.87418,97320.94144,97717.0087,98113.07596,98509.14322,98905.21048000001,99301.27774,99697.345,100093.41226,100489.47952,100885.54678,101281.61404,101677.6813,102073.74856,102469.81582,102865.88308,103261.95034,103658.0176,104054.08486,104450.15212,104846.21938,105242.28664,105638.3539,106034.42116,106430.48842,106826.55568,107222.62294,107618.6902,108014.75746000001,108410.82472,108806.89198,109202.95924000001,109599.02649999999,109995.09376,110391.16102,110787.22828,111183.29554,111579.3628,111975.43006,112371.49732000001,112767.56457999999,113163.63184,113559.69910000001,113955.76636,114351.83362,114747.90088,115143.96814,115540.03540000001,115936.10265999999,116332.16992,116728.23718000001,117124.30443999999,117520.3717,117916.43896000001,118312.50622,118708.57348,119104.64074,119500.708,119896.77526000001,120292.84251999999,120688.90978,121084.97704000001,121481.0443,121877.11156,122273.17882,122669.24608,123065.31334000001,123461.3806,123857.44786,124253.51512,124649.58238,125045.64964,125441.7169,125837.78416,126233.85142,126629.91868,127025.98594,127422.0532,127818.12046,128214.18772,128610.25498,129006.32224000001,129402.3895,129798.45676,130194.52402,130590.59128,130986.65854,131382.72580000001,131778.79306,132174.86032,132570.92758,132966.99484,133363.0621,133759.12936,134155.19662,134551.26388,134947.33114000002,135343.3984,135739.46566,136135.53292000003,136531.60018,136927.66744,137323.73470000003,137719.80196,138115.86922,138511.93647999997,138908.00374000001,139304.071,139700.13825999998,140096.20552000002,140492.27278,140888.34003999998,141284.40730000002,141680.47456,142076.54181999998,142472.60908000002,142868.67634,143264.7436,143660.81086000003,144056.87812,144452.94538,144849.01264,145245.0799,145641.14716,146037.21442,146433.28168000001,146829.34894,147225.4162,147621.48346000002,148017.55072,148413.61797999998,148809.68524000002,149205.7525,149601.81975999998,149997.88702000002,150393.95428,150790.02154,151186.0888,151582.15606,151978.22332,152374.29058,152770.35784,153166.4251,153562.49236,153958.55962,154354.62688,154750.69414,155146.76140000002,155542.82866,155938.89592,156334.96318,156731.03044,157127.0977,157523.16496,157919.23222,158315.29948,158711.36674,159107.434,159503.50126,159899.56852,160295.63578,160691.70304,161087.7703,161483.83756,161879.90482,162275.97208,162672.03934,163068.1066,163464.17386,163860.24112,164256.30838,164652.37564,165048.4429,165444.51016,165840.57742000002,166236.64468,166632.71194,167028.77920000002,167424.84646,167820.91372,168216.98098,168613.04824,169009.11549999999,169405.18276,169801.25002,170197.31728,170593.38454,170989.4518,171385.51906,171781.58632,172177.65358,172573.72084,172969.7881,173365.85536000002,173761.92262,174157.98988,174554.05714000002,174950.1244,175346.19165999998,175742.25892000002,176138.32618,176534.39343999999,176930.46070000003,177326.52796,177722.59522,178118.66248000003,178514.72974,178910.797,179306.86426,179702.93152,180098.99878,180495.06603999998,180891.13330000002,181287.20056,181683.26781999998,182079.33508000002,182475.40234,182871.46959999998,183267.53686000002,183663.60412,184059.67137999999,184455.73864000003,184851.8059,185247.87316,185643.94042000003,186040.00768,186436.07494,186832.14220000003,187228.20946,187624.27672,188020.34398,188416.41124000002,188812.4785,189208.54575999998,189604.61302000002,190000.68028,190396.74753999998,190792.81480000002,191188.88206,191584.94931999999,191981.01658000002,192377.08384,192773.1511,193169.21836,193565.28562,193961.35288,194357.42014,194753.4874,195149.55466,195545.62192,195941.68918000002,196337.75644,196733.8237,197129.89096000002,197525.95822,197922.02548,198318.09274000002],\"xaxis\":\"x\",\"y\":[5.962931791296852e-6,6.244278854582822e-6,6.524356955450467e-6,6.802154996163047e-6,7.076683508433891e-6,7.346985007743072e-6,7.612143800069129e-6,7.87129507236109e-6,8.123633115081623e-6,8.368418545699242e-6,8.604984425463854e-6,8.83274118746398e-6,9.051180321071274e-6,9.259876785631536e-6,9.458490153874301e-6,9.64676451220698e-6,9.82452717012678e-6,9.99168625377939e-6,0.000010148227278669987,0.000010294208813259408,0.00001042975735833573,0.000010555061576456106,0.00001067036601133947,0.000010775964438925314,0.000010872192990068098,0.00001095942317979192,0.000011038054970053703,0.000011108509982477502,0.000011171224965025512,0.00001122664560255954,0.000011275220746248659,0.000011317397121307852,0.000011353614557081735,0.00001138430176847796,0.000011409872703582777,0.00001143072345928826,0.000011447229755191464,0.000011459744946067138,0.000011468598544991004,0.000011474095222738739,0.00001147651424438727,0.000011476109301029771,0.000011473108693037111,0.000011467715821212127,0.000011460109943269631,0.00001145044715512976,0.000011438861559301449,0.000011425466585928802,0.000011410356435663744,0.000011393607617198012,0.000011375280555873045,0.00001135542125312051,0.000011334062979460973,0.000011311227986304296,0.000011286929223812144,0.000011261172053564934,0.000011233955945745936,0.000011205276151042217,0.000011175125337534306,0.000011143495182574906,0.000011110377909150669,0.000011075767755566709,0.00001103966236661054,0.000011002064093737144,0.000010962981191369857,0.0000109224288962195,0.000010880430376653074,0.000010837017539654543,0.00001079223168383373,0.000010746123988286169,0.000010698755828855937,0.000010650198915495603,0.0000106005352468913,0.000010549856881272528,0.000010498265525269574,0.000010445871945742716,0.000010392795212579614,0.000010339161783466539,0.000010285104444477373,0.000010230761122918457,0.00001017627359114434,0.000010121786081945513,0.000010067443837574651,0.000010013391615474907,9.959772174297672e-6,9.906724763850168e-6,9.854383642198599e-6,9.80287664232181e-6,9.752323809486305e-6,9.702836128955235e-6,9.654514361809236e-6,9.607448004598102e-6,9.56171438632622e-6,9.517377913949606e-6,9.474489475187039e-6,9.433086005059568e-6,9.393190220214142e-6,9.35481052278079e-6,9.317941073280672e-6,9.282562029956783e-6,9.24863994984492e-6,9.216128344937267e-6,9.184968384919762e-6,9.155089736178672e-6,9.126411525075661e-6,9.098843411884708e-6,9.072286760279151e-6,9.046635885869896e-6,9.021779366045842e-6,8.997601392287617e-6,8.973983145251474e-6,8.950804172292578e-6,8.927943746761745e-6,8.905282188406462e-6,8.882702124584805e-6,8.860089672788888e-6,8.837335526200057e-6,8.814335925681778e-6,8.790993503744802e-6,8.767217988589203e-6,8.742926759289768e-6,8.718045246501163e-6,8.69250717663009e-6,8.666254661178075e-6,8.639238136777294e-6,8.611416165219855e-6,8.582755106382805e-6,8.553228680257101e-6,8.522817437168702e-6,8.49150815762213e-6,8.459293204894535e-6,8.426169854485027e-6,8.39213962471016e-6,8.357207632111237e-6,8.321381993891206e-6,8.284673297361202e-6,8.247094153413489e-6,8.208658847433003e-6,8.169383096942997e-6,8.129283920785743e-6,8.088379619937737e-6,8.04668986532059e-6,8.004235883374384e-6,7.961040725896592e-6,7.917129606875971e-6,7.872530285932888e-6,7.827273475638251e-6,7.78139324853084e-6,7.734927419150539e-6,7.687917876890236e-6,7.640410846928313e-6,7.5924570588928265e-6,7.544111806143249e-6,7.495434882510875e-6,7.446490387870863e-6,7.397346398846599e-6,7.348074506082392e-6,7.298749224657498e-6,7.249447289153549e-6,7.200246849433096e-6,7.151226587150918e-6,7.102464776256333e-6,7.054038313115716e-6,7.006021743299296e-6,6.958486312482621e-6,6.911499068293737e-6,6.8651220383203845e-6,6.8194115069461175e-6,6.774417410313573e-6,6.730182864654726e-6,6.6867438386467205e-6,6.644128975530324e-6,6.602359565662251e-6,6.5614496651620675e-6,6.521406351553988e-6,6.4822301029717015e-6,6.4439152837607575e-6,6.406450716299251e-6,6.369820316682969e-6,6.334003770636859e-6,6.298977225663656e-6,6.264713976004119e-6,6.2311851184203394e-6,6.19836015904139e-6,6.166207554416906e-6,6.134695173374306e-6,6.103790670112166e-6,6.073461763020206e-6,6.04367641782435e-6,6.014402937645378e-6,5.985609966273992e-6,5.957266414264881e-6,5.929341320216402e-6,5.9018036617424595e-6,5.874622132093783e-6,5.847764899118932e-6,5.821199363270703e-6,5.794891930691767e-6,5.768807816114725e-6,5.7429108884663215e-6,5.717163569779007e-6,5.691526795397066e-6,5.665960040646535e-6,5.64042141624404e-6,5.614867831871022e-6,5.589255224653245e-6,5.563538846861416e-6,5.5376736050712365e-6,5.51161444135618e-6,5.485316745875283e-6,5.458736789483168e-6,5.43183216473027e-6,5.404562223815548e-6,5.376888502665006e-6,5.348775121281588e-6,5.3201891517806514e-6,5.291100947019857e-6,5.261484424370076e-6,5.231317300885265e-6,5.20058127783303e-6,5.169262174182034e-6,5.137350010143117e-6,5.104839043184337e-6,5.071727760045348e-6,5.038018829140355e-6,5.003719018349383e-6,4.968839083551416e-6,4.933393633361912e-6,4.897400975416193e-6,4.8608829492182645e-6,4.823864750078356e-6,4.786374748031611e-6,4.7484443048956255e-6,4.710107591828969e-6,4.671401408928341e-6,4.632365007585523e-6,4.593039915546469e-6,4.553469763903978e-6,4.513700114633694e-6,4.4737782867734695e-6,4.433753178961572e-6,4.393675085801671e-6,4.353595505420375e-6,4.313566935625665e-6,4.273642656262621e-6,4.2338764956893885e-6,4.194322579751092e-6,4.155035062198478e-6,4.116067836163916e-6,4.077474227048199e-6,4.039306667963611e-6,4.001616359694033e-6,3.964452917944321e-6,3.927864011426681e-6,3.8918949950451525e-6,3.856588543056666e-6,3.821984287587788e-6,3.788118468242674e-6,3.7550235987338764e-6,3.7227281564899307e-6,3.6912563010353313e-6,3.6606276266015893e-6,3.630856953918567e-6,3.601954165469953e-6,3.573924087697669e-6,3.546766422733396e-6,3.520475731256525e-6,3.495041467061428e-6,3.4704480629010477e-6,3.44667506619666e-6,3.4236973223004576e-6,3.4014852022001635e-6,3.3800048708897716e-6,3.3592185921164904e-6,3.339085064862344e-6,3.3195597867337084e-6,3.3005954394046093e-6,3.2821422913798274e-6,3.264148613586395e-6,3.246561103641643e-6,3.229325315050609e-6,3.2123860880198323e-6,3.195687979004912e-6,3.1791756865025295e-6,3.1627944709244828e-6,3.146490566629852e-6,3.130211584323773e-6,3.1139069020513647e-6,3.0975280429233505e-6,3.0810290375150905e-6,3.0643667686024297e-6,3.047501295560239e-6,3.030396155384009e-6,3.0130186369371416e-6,2.995340024712148e-6,2.9773358081609487e-6,2.958985852530462e-6,2.940274527164478e-6,2.9211907874241926e-6,2.901728206752615e-6,2.8818849559671596e-6,2.8616637276080984e-6,2.841071604082154e-6,2.8201198694005283e-6,2.7988237654862968e-6,2.7772021952801484e-6,2.755277376164398e-6,2.7330744485054582e-6,2.7106210453381613e-6,2.6879468303361518e-6,2.6650830121858554e-6,2.642061844270802e-6,2.6189161191445463e-6,2.5956786675999697e-6,2.57238187221389e-6,2.549057205050621e-6,2.5257347987484667e-6,2.502443059497954e-6,2.4792083294703967e-6,2.456054605092634e-6,2.433003316224203e-6,2.410073169810903e-6,2.38728006000741e-6,2.364637045123667e-6,2.342154390101508e-6,2.31983967161438e-6,2.297697941348506e-6,2.2757319416107775e-6,2.25394236615552e-6,2.2323281580635267e-6,2.2108868356729152e-6,2.1896148369746522e-6,2.1685078725641966e-6,2.147561277194817e-6,2.126770350209799e-6,2.1061306756355903e-6,2.085638413482945e-6,2.065290554807431e-6,2.045085134296529e-6,2.0250213955424097e-6,2.0050999056861543e-6,1.9853226177337966e-6,1.9656928804966032e-6,1.9462153977437923e-6,1.9268961397217583e-6,1.9077422116365057e-6,1.8887616849652378e-6,1.8699633985139918e-6,1.8513567369321425e-6,1.832951394902577e-6,1.814757135427936e-6,1.796783550521125e-6,1.7790398321862004e-6,1.7615345608592287e-6,1.7442755174973921e-6,1.7272695242977439e-6,1.7105223176440325e-6,1.6940384553796936e-6,1.6778212589511747e-6,1.6618727894245382e-6,1.646193854918707e-6,1.6307840456841633e-6,1.6156417919464826e-6,1.6007644387798e-6,1.586148331716322e-6,1.5717889065602485e-6,1.5576807769704074e-6,1.543817813801938e-6,1.5301932109345453e-6,1.5167995333289543e-6,1.5036287442977473e-6,1.4906722103912718e-6,1.477920683817686e-6,1.4653642638628081e-6,1.452992340276144e-6,1.4407935229676166e-6,1.4287555635465853e-6,1.4168652751678606e-6,1.4051084577786564e-6,1.3934698361488708e-6,1.3819330179939104e-6,1.3704804790598849e-6,1.3590935812491286e-6,1.347752628748783e-6,1.3364369657320647e-6,1.3251251175891033e-6,1.313794975881428e-6,1.3024240253772298e-6,1.2909896096945142e-6,1.2794692303365918e-6,1.2678408723257324e-6,1.2560833482966651e-6,1.2441766518610092e-6,1.232102310343223e-6,1.2198437266501088e-6,1.2073865000839024e-6,1.1947187163421807e-6,1.1818311977477116e-6,1.1687177058846182e-6,1.1553750902352958e-6,1.1418033780580184e-6,1.1280058025491799e-6,1.1139887682251428e-6,1.0997617543612693e-6,1.0853371591669096e-6,1.0707300890863251e-6,1.0559580991350938e-6,1.0410408914585242e-6,1.0259999802932548e-6,1.010858332199119e-6,9.956399907928593e-7,9.803696952593348e-7,9.650725016535882e-7,9.497734154642922e-7,9.344970431219266e-7,9.192672691472291e-7,9.041069644969082e-7,8.890377304270122e-7,8.740796809130259e-7,8.592512653915069e-7,8.445691323682089e-7,8.300480333142127e-7,8.157007652787964e-7,8.015381498117304e-7,7.875690451253057e-7,7.738003879457751e-7,7.602372612038819e-7,7.468829835862142e-7,7.337392169968702e-7,7.208060881412663e-7,7.080823207148368e-7,6.955653750306948e-7,6.832515923231571e-7,6.711363413895815e-7,6.592141656551506e-7,6.474789291408797e-7,6.359239601652188e-7,6.245421919003367e-7,6.133262991265153e-7,6.022688306786478e-7,5.913623371587942e-7,5.8059949350425e-7,5.69973215961091e-7,5.594767729312507e-7,5.4910388905132e-7,5.388488417387238e-7,5.287065493208342e-7,5.186726497591584e-7,5.087435689062119e-7,4.989165771968858e-7,4.891898336858795e-7,4.795624164020596e-7,4.700343380997248e-7,4.6060654664364505e-7,4.5128090946421505e-7,4.4206018175414054e-7,4.3294795834007745e-7,4.239486094420853e-7,4.1506720082110874e-7,4.063093991003708e-7,3.976813633225969e-7,3.891896240641716e-7,3.808409516644363e-7,3.726422153397938e-7,3.64600235136313e-7,3.5672162883064075e-7,3.490126560182215e-7,3.4147906173175176e-7,3.3412592201322056e-7,3.269574939217026e-7,3.199770724972401e-7,3.131868572186273e-7,3.0658783048832933e-7,3.001796506482881e-7,2.939605619715335e-7,2.879273239807398e-7,2.8207516230960285e-7,2.763977431390465e-7,2.708871730011585e-7,2.655340254433816e-7,2.603273956797576e-7,2.552549839229141e-7,2.5030320759123784e-7,2.454573420248356e-7,2.4070168872986554e-7,2.3601976951598396e-7,2.313945442121598e-7,2.2680864896148467e-7,2.222446514282313e-7,2.1768531862464595e-7,2.131138925060207e-7,2.0851436801554443e-7,2.0387176790887995e-7,1.991724084732279e-7,1.9440415019385478e-7,1.8955662752476243e-7,1.8462145219573134e-7,1.7959238493525045e-7,1.744654711012253e-7,1.692391364753165e-7],\"yaxis\":\"y\",\"type\":\"scatter\",\"fill\":\"tozeroy\",\"hovertemplate\":\"\\u003cb\\u003eSynthetic\\u003c\\u002fb\\u003e\\u003cbr\\u003eFrequency: %{y}\\u003cextra\\u003e\\u003c\\u002fextra\\u003e\"}],                        {\"barmode\":\"overlay\",\"hovermode\":\"closest\",\"legend\":{\"traceorder\":\"reversed\"},\"xaxis\":{\"anchor\":\"y2\",\"domain\":[0.0,1.0],\"zeroline\":false,\"title\":{\"text\":\"Value\"}},\"yaxis\":{\"anchor\":\"free\",\"domain\":[0.0,1],\"position\":0.0,\"title\":{\"text\":\"Frequency\"}},\"template\":{\"data\":{\"histogram2dcontour\":[{\"type\":\"histogram2dcontour\",\"colorbar\":{\"outlinewidth\":0,\"ticks\":\"\"},\"colorscale\":[[0.0,\"#0d0887\"],[0.1111111111111111,\"#46039f\"],[0.2222222222222222,\"#7201a8\"],[0.3333333333333333,\"#9c179e\"],[0.4444444444444444,\"#bd3786\"],[0.5555555555555556,\"#d8576b\"],[0.6666666666666666,\"#ed7953\"],[0.7777777777777778,\"#fb9f3a\"],[0.8888888888888888,\"#fdca26\"],[1.0,\"#f0f921\"]]}],\"choropleth\":[{\"type\":\"choropleth\",\"colorbar\":{\"outlinewidth\":0,\"ticks\":\"\"}}],\"histogram2d\":[{\"type\":\"histogram2d\",\"colorbar\":{\"outlinewidth\":0,\"ticks\":\"\"},\"colorscale\":[[0.0,\"#0d0887\"],[0.1111111111111111,\"#46039f\"],[0.2222222222222222,\"#7201a8\"],[0.3333333333333333,\"#9c179e\"],[0.4444444444444444,\"#bd3786\"],[0.5555555555555556,\"#d8576b\"],[0.6666666666666666,\"#ed7953\"],[0.7777777777777778,\"#fb9f3a\"],[0.8888888888888888,\"#fdca26\"],[1.0,\"#f0f921\"]]}],\"heatmap\":[{\"type\":\"heatmap\",\"colorbar\":{\"outlinewidth\":0,\"ticks\":\"\"},\"colorscale\":[[0.0,\"#0d0887\"],[0.1111111111111111,\"#46039f\"],[0.2222222222222222,\"#7201a8\"],[0.3333333333333333,\"#9c179e\"],[0.4444444444444444,\"#bd3786\"],[0.5555555555555556,\"#d8576b\"],[0.6666666666666666,\"#ed7953\"],[0.7777777777777778,\"#fb9f3a\"],[0.8888888888888888,\"#fdca26\"],[1.0,\"#f0f921\"]]}],\"heatmapgl\":[{\"type\":\"heatmapgl\",\"colorbar\":{\"outlinewidth\":0,\"ticks\":\"\"},\"colorscale\":[[0.0,\"#0d0887\"],[0.1111111111111111,\"#46039f\"],[0.2222222222222222,\"#7201a8\"],[0.3333333333333333,\"#9c179e\"],[0.4444444444444444,\"#bd3786\"],[0.5555555555555556,\"#d8576b\"],[0.6666666666666666,\"#ed7953\"],[0.7777777777777778,\"#fb9f3a\"],[0.8888888888888888,\"#fdca26\"],[1.0,\"#f0f921\"]]}],\"contourcarpet\":[{\"type\":\"contourcarpet\",\"colorbar\":{\"outlinewidth\":0,\"ticks\":\"\"}}],\"contour\":[{\"type\":\"contour\",\"colorbar\":{\"outlinewidth\":0,\"ticks\":\"\"},\"colorscale\":[[0.0,\"#0d0887\"],[0.1111111111111111,\"#46039f\"],[0.2222222222222222,\"#7201a8\"],[0.3333333333333333,\"#9c179e\"],[0.4444444444444444,\"#bd3786\"],[0.5555555555555556,\"#d8576b\"],[0.6666666666666666,\"#ed7953\"],[0.7777777777777778,\"#fb9f3a\"],[0.8888888888888888,\"#fdca26\"],[1.0,\"#f0f921\"]]}],\"surface\":[{\"type\":\"surface\",\"colorbar\":{\"outlinewidth\":0,\"ticks\":\"\"},\"colorscale\":[[0.0,\"#0d0887\"],[0.1111111111111111,\"#46039f\"],[0.2222222222222222,\"#7201a8\"],[0.3333333333333333,\"#9c179e\"],[0.4444444444444444,\"#bd3786\"],[0.5555555555555556,\"#d8576b\"],[0.6666666666666666,\"#ed7953\"],[0.7777777777777778,\"#fb9f3a\"],[0.8888888888888888,\"#fdca26\"],[1.0,\"#f0f921\"]]}],\"mesh3d\":[{\"type\":\"mesh3d\",\"colorbar\":{\"outlinewidth\":0,\"ticks\":\"\"}}],\"scatter\":[{\"fillpattern\":{\"fillmode\":\"overlay\",\"size\":10,\"solidity\":0.2},\"type\":\"scatter\"}],\"parcoords\":[{\"type\":\"parcoords\",\"line\":{\"colorbar\":{\"outlinewidth\":0,\"ticks\":\"\"}}}],\"scatterpolargl\":[{\"type\":\"scatterpolargl\",\"marker\":{\"colorbar\":{\"outlinewidth\":0,\"ticks\":\"\"}}}],\"bar\":[{\"error_x\":{\"color\":\"#2a3f5f\"},\"error_y\":{\"color\":\"#2a3f5f\"},\"marker\":{\"line\":{\"color\":\"#E5ECF6\",\"width\":0.5},\"pattern\":{\"fillmode\":\"overlay\",\"size\":10,\"solidity\":0.2}},\"type\":\"bar\"}],\"scattergeo\":[{\"type\":\"scattergeo\",\"marker\":{\"colorbar\":{\"outlinewidth\":0,\"ticks\":\"\"}}}],\"scatterpolar\":[{\"type\":\"scatterpolar\",\"marker\":{\"colorbar\":{\"outlinewidth\":0,\"ticks\":\"\"}}}],\"histogram\":[{\"marker\":{\"pattern\":{\"fillmode\":\"overlay\",\"size\":10,\"solidity\":0.2}},\"type\":\"histogram\"}],\"scattergl\":[{\"type\":\"scattergl\",\"marker\":{\"colorbar\":{\"outlinewidth\":0,\"ticks\":\"\"}}}],\"scatter3d\":[{\"type\":\"scatter3d\",\"line\":{\"colorbar\":{\"outlinewidth\":0,\"ticks\":\"\"}},\"marker\":{\"colorbar\":{\"outlinewidth\":0,\"ticks\":\"\"}}}],\"scattermapbox\":[{\"type\":\"scattermapbox\",\"marker\":{\"colorbar\":{\"outlinewidth\":0,\"ticks\":\"\"}}}],\"scatterternary\":[{\"type\":\"scatterternary\",\"marker\":{\"colorbar\":{\"outlinewidth\":0,\"ticks\":\"\"}}}],\"scattercarpet\":[{\"type\":\"scattercarpet\",\"marker\":{\"colorbar\":{\"outlinewidth\":0,\"ticks\":\"\"}}}],\"carpet\":[{\"aaxis\":{\"endlinecolor\":\"#2a3f5f\",\"gridcolor\":\"white\",\"linecolor\":\"white\",\"minorgridcolor\":\"white\",\"startlinecolor\":\"#2a3f5f\"},\"baxis\":{\"endlinecolor\":\"#2a3f5f\",\"gridcolor\":\"white\",\"linecolor\":\"white\",\"minorgridcolor\":\"white\",\"startlinecolor\":\"#2a3f5f\"},\"type\":\"carpet\"}],\"table\":[{\"cells\":{\"fill\":{\"color\":\"#EBF0F8\"},\"line\":{\"color\":\"white\"}},\"header\":{\"fill\":{\"color\":\"#C8D4E3\"},\"line\":{\"color\":\"white\"}},\"type\":\"table\"}],\"barpolar\":[{\"marker\":{\"line\":{\"color\":\"#E5ECF6\",\"width\":0.5},\"pattern\":{\"fillmode\":\"overlay\",\"size\":10,\"solidity\":0.2}},\"type\":\"barpolar\"}],\"pie\":[{\"automargin\":true,\"type\":\"pie\"}]},\"layout\":{\"autotypenumbers\":\"strict\",\"colorway\":[\"#636efa\",\"#EF553B\",\"#00cc96\",\"#ab63fa\",\"#FFA15A\",\"#19d3f3\",\"#FF6692\",\"#B6E880\",\"#FF97FF\",\"#FECB52\"],\"font\":{\"color\":\"#2a3f5f\"},\"hovermode\":\"closest\",\"hoverlabel\":{\"align\":\"left\"},\"paper_bgcolor\":\"white\",\"plot_bgcolor\":\"#E5ECF6\",\"polar\":{\"bgcolor\":\"#E5ECF6\",\"angularaxis\":{\"gridcolor\":\"white\",\"linecolor\":\"white\",\"ticks\":\"\"},\"radialaxis\":{\"gridcolor\":\"white\",\"linecolor\":\"white\",\"ticks\":\"\"}},\"ternary\":{\"bgcolor\":\"#E5ECF6\",\"aaxis\":{\"gridcolor\":\"white\",\"linecolor\":\"white\",\"ticks\":\"\"},\"baxis\":{\"gridcolor\":\"white\",\"linecolor\":\"white\",\"ticks\":\"\"},\"caxis\":{\"gridcolor\":\"white\",\"linecolor\":\"white\",\"ticks\":\"\"}},\"coloraxis\":{\"colorbar\":{\"outlinewidth\":0,\"ticks\":\"\"}},\"colorscale\":{\"sequential\":[[0.0,\"#0d0887\"],[0.1111111111111111,\"#46039f\"],[0.2222222222222222,\"#7201a8\"],[0.3333333333333333,\"#9c179e\"],[0.4444444444444444,\"#bd3786\"],[0.5555555555555556,\"#d8576b\"],[0.6666666666666666,\"#ed7953\"],[0.7777777777777778,\"#fb9f3a\"],[0.8888888888888888,\"#fdca26\"],[1.0,\"#f0f921\"]],\"sequentialminus\":[[0.0,\"#0d0887\"],[0.1111111111111111,\"#46039f\"],[0.2222222222222222,\"#7201a8\"],[0.3333333333333333,\"#9c179e\"],[0.4444444444444444,\"#bd3786\"],[0.5555555555555556,\"#d8576b\"],[0.6666666666666666,\"#ed7953\"],[0.7777777777777778,\"#fb9f3a\"],[0.8888888888888888,\"#fdca26\"],[1.0,\"#f0f921\"]],\"diverging\":[[0,\"#8e0152\"],[0.1,\"#c51b7d\"],[0.2,\"#de77ae\"],[0.3,\"#f1b6da\"],[0.4,\"#fde0ef\"],[0.5,\"#f7f7f7\"],[0.6,\"#e6f5d0\"],[0.7,\"#b8e186\"],[0.8,\"#7fbc41\"],[0.9,\"#4d9221\"],[1,\"#276419\"]]},\"xaxis\":{\"gridcolor\":\"white\",\"linecolor\":\"white\",\"ticks\":\"\",\"title\":{\"standoff\":15},\"zerolinecolor\":\"white\",\"automargin\":true,\"zerolinewidth\":2},\"yaxis\":{\"gridcolor\":\"white\",\"linecolor\":\"white\",\"ticks\":\"\",\"title\":{\"standoff\":15},\"zerolinecolor\":\"white\",\"automargin\":true,\"zerolinewidth\":2},\"scene\":{\"xaxis\":{\"backgroundcolor\":\"#E5ECF6\",\"gridcolor\":\"white\",\"linecolor\":\"white\",\"showbackground\":true,\"ticks\":\"\",\"zerolinecolor\":\"white\",\"gridwidth\":2},\"yaxis\":{\"backgroundcolor\":\"#E5ECF6\",\"gridcolor\":\"white\",\"linecolor\":\"white\",\"showbackground\":true,\"ticks\":\"\",\"zerolinecolor\":\"white\",\"gridwidth\":2},\"zaxis\":{\"backgroundcolor\":\"#E5ECF6\",\"gridcolor\":\"white\",\"linecolor\":\"white\",\"showbackground\":true,\"ticks\":\"\",\"zerolinecolor\":\"white\",\"gridwidth\":2}},\"shapedefaults\":{\"line\":{\"color\":\"#2a3f5f\"}},\"annotationdefaults\":{\"arrowcolor\":\"#2a3f5f\",\"arrowhead\":0,\"arrowwidth\":1},\"geo\":{\"bgcolor\":\"white\",\"landcolor\":\"#E5ECF6\",\"subunitcolor\":\"white\",\"showland\":true,\"showlakes\":true,\"lakecolor\":\"white\"},\"title\":{\"x\":0.05},\"mapbox\":{\"style\":\"light\"}}},\"font\":{\"size\":18},\"title\":{\"text\":\"Real vs. Synthetic Data for column 'Sales'\"},\"plot_bgcolor\":\"#F5F5F8\"},                        {\"responsive\": true}                    ).then(function(){\n",
              "                            \n",
              "var gd = document.getElementById('46dff88f-a71c-4bc1-a20f-afd17d00176e');\n",
              "var x = new MutationObserver(function (mutations, observer) {{\n",
              "        var display = window.getComputedStyle(gd).display;\n",
              "        if (!display || display === 'none') {{\n",
              "            console.log([gd, 'removed!']);\n",
              "            Plotly.purge(gd);\n",
              "            observer.disconnect();\n",
              "        }}\n",
              "}});\n",
              "\n",
              "// Listen for the removal of the full notebook cells\n",
              "var notebookContainer = gd.closest('#notebook-container');\n",
              "if (notebookContainer) {{\n",
              "    x.observe(notebookContainer, {childList: true});\n",
              "}}\n",
              "\n",
              "// Listen for the clearing of the current output cell\n",
              "var outputEl = gd.closest('.output');\n",
              "if (outputEl) {{\n",
              "    x.observe(outputEl, {childList: true});\n",
              "}}\n",
              "\n",
              "                        })                };                            </script>        </div>\n",
              "</body>\n",
              "</html>"
            ]
          },
          "metadata": {}
        }
      ]
    },
    {
      "cell_type": "markdown",
      "source": [
        "## 4.3 Using Matplotlib to see the Average Monthly Sales for Real & Synthetic Data"
      ],
      "metadata": {
        "id": "nbKnd42Ovst4"
      }
    },
    {
      "cell_type": "code",
      "source": [
        "import pandas as pd\n",
        "import matplotlib.pyplot as plt\n",
        "\n",
        "# Ensure 'Date' columns are datetime\n",
        "salesDf['Date'] = pd.to_datetime(salesDf['Date'], format='%d-%m-%Y')\n",
        "synthetic_data['Date'] = pd.to_datetime(synthetic_data['Date'], format='%d-%m-%Y')\n",
        "\n",
        "# Extract 'Month' as year-month string\n",
        "salesDf['Month'] = salesDf['Date'].dt.to_period('M').astype(str)\n",
        "synthetic_data['Month'] = synthetic_data['Date'].dt.to_period('M').astype(str)\n",
        "\n",
        "# Group by 'Month' and calculate average sales\n",
        "actual_avg_monthly = salesDf.groupby('Month')['Sales'].mean().rename('Actual Average Sales')\n",
        "synthetic_avg_monthly = synthetic_data.groupby('Month')['Sales'].mean().rename('Synthetic Average Sales')\n",
        "\n",
        "# Merge the two series into a DataFrame\n",
        "avg_monthly_comparison = pd.concat([actual_avg_monthly, synthetic_avg_monthly], axis=1).fillna(0)\n",
        "\n",
        "# Plot\n",
        "plt.figure(figsize=(10, 6))\n",
        "plt.plot(avg_monthly_comparison.index, avg_monthly_comparison['Actual Average Sales'], label='Actual Average Sales', marker='o')\n",
        "plt.plot(avg_monthly_comparison.index, avg_monthly_comparison['Synthetic Average Sales'], label='Synthetic Average Sales', marker='o')\n",
        "\n",
        "plt.title('Average Monthly Sales Comparison: Actual vs Synthetic')\n",
        "plt.xlabel('Month')\n",
        "plt.ylabel('Average Sales')\n",
        "plt.xticks(rotation=45)\n",
        "plt.grid(True)\n",
        "plt.legend()\n",
        "plt.ylim(bottom=0)  # y-axis starts at 0\n",
        "plt.tight_layout()\n",
        "plt.show()"
      ],
      "metadata": {
        "colab": {
          "base_uri": "https://localhost:8080/",
          "height": 607
        },
        "id": "qWwLk4t7sf1S",
        "outputId": "e173e349-a8c6-45ba-ca16-096e3e19337b"
      },
      "execution_count": null,
      "outputs": [
        {
          "output_type": "display_data",
          "data": {
            "text/plain": [
              "<Figure size 1000x600 with 1 Axes>"
            ],
            "image/png": "[encoded data removed]"
          },
          "metadata": {}
        }
      ]
    }
  ]
}