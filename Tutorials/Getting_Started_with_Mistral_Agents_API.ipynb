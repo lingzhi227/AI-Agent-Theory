{
  "nbformat": 4,
  "nbformat_minor": 0,
  "metadata": {
    "colab": {
      "provenance": [],
      "gpuType": "T4"
    },
    "kernelspec": {
      "name": "python3",
      "display_name": "Python 3"
    },
    "language_info": {
      "name": "python"
    },
    "accelerator": "GPU"
  },
  "cells": [
    {
      "cell_type": "markdown",
      "source": [
        "In this notebook, we'll build a simple math agent using the Mistral Agents API, leveraging its built-in code execution tool to solve mathematical problems."
      ],
      "metadata": {
        "id": "JdsELI-j6lrm"
      }
    },
    {
      "cell_type": "markdown",
      "source": [
        "# 1. Setting up dependencies\n"
      ],
      "metadata": {
        "id": "Ky4Juhb18QzO"
      }
    },
    {
      "cell_type": "markdown",
      "source": [
        "## 1.1 Installing the Mistral library"
      ],
      "metadata": {
        "id": "PR9WEUJU8arx"
      }
    },
    {
      "cell_type": "code",
      "execution_count": null,
      "metadata": {
        "collapsed": true,
        "id": "5Newocj7H45I",
        "colab": {
          "base_uri": "https://localhost:8080/"
        },
        "outputId": "3d8042d1-184e-46e9-9201-2565f0dd312a"
      },
      "outputs": [
        {
          "output_type": "stream",
          "name": "stdout",
          "text": [
            "Collecting mistralai\n",
            "  Downloading mistralai-1.8.1-py3-none-any.whl.metadata (33 kB)\n",
            "Collecting eval-type-backport>=0.2.0 (from mistralai)\n",
            "  Downloading eval_type_backport-0.2.2-py3-none-any.whl.metadata (2.2 kB)\n",
            "Requirement already satisfied: httpx>=0.28.1 in /usr/local/lib/python3.11/dist-packages (from mistralai) (0.28.1)\n",
            "Requirement already satisfied: pydantic>=2.10.3 in /usr/local/lib/python3.11/dist-packages (from mistralai) (2.11.4)\n",
            "Requirement already satisfied: python-dateutil>=2.8.2 in /usr/local/lib/python3.11/dist-packages (from mistralai) (2.9.0.post0)\n",
            "Requirement already satisfied: typing-inspection>=0.4.0 in /usr/local/lib/python3.11/dist-packages (from mistralai) (0.4.1)\n",
            "Requirement already satisfied: anyio in /usr/local/lib/python3.11/dist-packages (from httpx>=0.28.1->mistralai) (4.9.0)\n",
            "Requirement already satisfied: certifi in /usr/local/lib/python3.11/dist-packages (from httpx>=0.28.1->mistralai) (2025.4.26)\n",
            "Requirement already satisfied: httpcore==1.* in /usr/local/lib/python3.11/dist-packages (from httpx>=0.28.1->mistralai) (1.0.9)\n",
            "Requirement already satisfied: idna in /usr/local/lib/python3.11/dist-packages (from httpx>=0.28.1->mistralai) (3.10)\n",
            "Requirement already satisfied: h11>=0.16 in /usr/local/lib/python3.11/dist-packages (from httpcore==1.*->httpx>=0.28.1->mistralai) (0.16.0)\n",
            "Requirement already satisfied: annotated-types>=0.6.0 in /usr/local/lib/python3.11/dist-packages (from pydantic>=2.10.3->mistralai) (0.7.0)\n",
            "Requirement already satisfied: pydantic-core==2.33.2 in /usr/local/lib/python3.11/dist-packages (from pydantic>=2.10.3->mistralai) (2.33.2)\n",
            "Requirement already satisfied: typing-extensions>=4.12.2 in /usr/local/lib/python3.11/dist-packages (from pydantic>=2.10.3->mistralai) (4.13.2)\n",
            "Requirement already satisfied: six>=1.5 in /usr/local/lib/python3.11/dist-packages (from python-dateutil>=2.8.2->mistralai) (1.17.0)\n",
            "Requirement already satisfied: sniffio>=1.1 in /usr/local/lib/python3.11/dist-packages (from anyio->httpx>=0.28.1->mistralai) (1.3.1)\n",
            "Downloading mistralai-1.8.1-py3-none-any.whl (373 kB)\n",
            "\u001b[?25l   \u001b[90m━━━━━━━━━━━━━━━━━━━━━━━━━━━━━━━━━━━━━━━━\u001b[0m \u001b[32m0.0/373.2 kB\u001b[0m \u001b[31m?\u001b[0m eta \u001b[36m-:--:--\u001b[0m\r\u001b[2K   \u001b[90m━━━━━━━━━━━━━━━━━━━━━━━━━━━━━━━━━━━━━━━━\u001b[0m \u001b[32m373.2/373.2 kB\u001b[0m \u001b[31m13.3 MB/s\u001b[0m eta \u001b[36m0:00:00\u001b[0m\n",
            "\u001b[?25hDownloading eval_type_backport-0.2.2-py3-none-any.whl (5.8 kB)\n",
            "Installing collected packages: eval-type-backport, mistralai\n",
            "Successfully installed eval-type-backport-0.2.2 mistralai-1.8.1\n"
          ]
        }
      ],
      "source": [
        "!pip install mistralai"
      ]
    },
    {
      "cell_type": "markdown",
      "source": [
        "## 1.2 Loading the Mistral API Key\n",
        "You can get an API key from https://console.mistral.ai/api-keys"
      ],
      "metadata": {
        "id": "PahfSqIn8fpX"
      }
    },
    {
      "cell_type": "code",
      "source": [
        "from getpass import getpass\n",
        "apiKey = getpass('Enter Mistral API Key: ')"
      ],
      "metadata": {
        "colab": {
          "base_uri": "https://localhost:8080/"
        },
        "id": "1818ffjdwN8O",
        "outputId": "cbdd589a-3964-416e-8a70-ebe08e4c05c8"
      },
      "execution_count": null,
      "outputs": [
        {
          "name": "stdout",
          "output_type": "stream",
          "text": [
            "Enter Mistral API Key: ··········\n"
          ]
        }
      ]
    },
    {
      "cell_type": "markdown",
      "source": [
        "# 2. Creating the Mistral client and Agent"
      ],
      "metadata": {
        "id": "qP0zbYdY8vte"
      }
    },
    {
      "cell_type": "markdown",
      "source": [
        "The following code creates a custom math agent using the Mistral Agents API. The agent, named **Math Helper**, is configured to solve mathematical problems, evaluate expressions, and explain concepts. It uses the *mistral-medium-2505* model along with Mistral's built-in *code_interpreter* tool, allowing it to run Python code when needed. The agent is initialized with clear instructions and tuned with specific completion parameters to ensure accurate and focused responses."
      ],
      "metadata": {
        "id": "2llw6g1582ZF"
      }
    },
    {
      "cell_type": "code",
      "source": [
        "from mistralai import Mistral\n",
        "client = Mistral(apiKey)"
      ],
      "metadata": {
        "id": "g-aWaWUmwXOg"
      },
      "execution_count": null,
      "outputs": []
    },
    {
      "cell_type": "code",
      "source": [
        "math_agent = client.beta.agents.create(\n",
        "    model=\"mistral-medium-2505\",\n",
        "    description=\"An agent that solves math problems and evaluates expressions.\",\n",
        "    name=\"Math Helper\",\n",
        "    instructions=\"You are a helpful math assistant. You can explain concepts, solve equations, and evaluate math expressions using the code interpreter.\",\n",
        "    tools=[{\"type\": \"code_interpreter\"}],\n",
        "    completion_args={\n",
        "        \"temperature\": 0.2,\n",
        "        \"top_p\": 0.9\n",
        "    }\n",
        ")"
      ],
      "metadata": {
        "id": "AxKyf9A-wmF3"
      },
      "execution_count": null,
      "outputs": []
    },
    {
      "cell_type": "markdown",
      "source": [
        "# 3. Running the Agent"
      ],
      "metadata": {
        "id": "8zdSvwTF9U5Y"
      }
    },
    {
      "cell_type": "markdown",
      "source": [
        "## 3.1 Initializing the conversation\n",
        "\n",
        "The following code initiates a new conversation with the math_agent, asking it to solve the quadratic equation 2x² + 3x - 2 = 0. The start() method sends the input query to the agent, which uses the specified model and tools (like the code interpreter) to generate a response. The result, including the assistant’s explanation and code execution, is stored in the response variable."
      ],
      "metadata": {
        "id": "aPNRkhwr9lcf"
      }
    },
    {
      "cell_type": "code",
      "source": [
        "response = client.beta.conversations.start(\n",
        "    agent_id=math_agent.id, inputs=\"Solve the quadratic equation 2x² + 3x - 2 = 0\", #store=False\n",
        ")\n",
        "\n",
        "response"
      ],
      "metadata": {
        "colab": {
          "base_uri": "https://localhost:8080/"
        },
        "id": "iuSNgA7Mwpkv",
        "outputId": "652ea344-0ef5-4dce-e28f-4b2526ea1f79"
      },
      "execution_count": null,
      "outputs": [
        {
          "output_type": "execute_result",
          "data": {
            "text/plain": [
              "ConversationResponse(conversation_id='conv_0683c1b8dfff72d9800003f28f1ea202', outputs=[MessageOutputEntry(content=\"To solve the quadratic equation \\\\(2x^2 + 3x - 2 = 0\\\\), we can use the quadratic formula:\\n\\n\\\\[ x = \\\\frac{-b \\\\pm \\\\sqrt{b^2 - 4ac}}{2a} \\\\]\\n\\nwhere \\\\(a = 2\\\\), \\\\(b = 3\\\\), and \\\\(c = -2\\\\).\\n\\nLet's calculate the solutions step-by-step.\", object='entry', type='message.output', created_at=datetime.datetime(2025, 6, 1, 9, 21, 18, 172555, tzinfo=TzInfo(UTC)), completed_at=datetime.datetime(2025, 6, 1, 9, 21, 18, 787860, tzinfo=TzInfo(UTC)), id='msg_0683c1b8e2c279e280004acabf39b047', agent_id='ag_0683c1ae5180761780008f1cce902c71', model='mistral-medium-2505', role='assistant'), ToolExecutionEntry(name='code_interpreter', object='entry', type='tool.execution', created_at=datetime.datetime(2025, 6, 1, 9, 21, 18, 897177, tzinfo=TzInfo(UTC)), completed_at=datetime.datetime(2025, 6, 1, 9, 21, 21, 254994, tzinfo=TzInfo(UTC)), id='tool_exec_0683c1b8ee5a7ad78000bc59004dab7a', info={'code': '# Coefficients from the quadratic equation: 2x² + 3x - 2 = 0\\nimport math\\n\\n# Define the coefficients\\na = 2\\nb = 3\\nc = -2\\n\\n# Calculate the discriminant\\nD = b**2 - 4*a*c\\n\\n# Calculate the two solutions\\nx1 = (-b + math.sqrt(D)) / (2*a)\\nx2 = (-b - math.sqrt(D)) / (2*a)\\n\\nx1, x2', 'code_output': '(0.5, -2.0)\\n'}), MessageOutputEntry(content='The solutions to the quadratic equation \\\\(2x^2 + 3x - 2 = 0\\\\) are \\\\(x = 0.5\\\\) and \\\\(x = -2.0\\\\).', object='entry', type='message.output', created_at=datetime.datetime(2025, 6, 1, 9, 21, 21, 325654, tzinfo=TzInfo(UTC)), completed_at=datetime.datetime(2025, 6, 1, 9, 21, 21, 702424, tzinfo=TzInfo(UTC)), id='msg_0683c1b915357b6e8000c1a037df7cb6', agent_id='ag_0683c1ae5180761780008f1cce902c71', model='mistral-medium-2505', role='assistant')], usage=ConversationUsageInfo(prompt_tokens=113, completion_tokens=241, total_tokens=373, connector_tokens=19, connectors={'code_interpreter': 1}), object='conversation.response')"
            ]
          },
          "metadata": {},
          "execution_count": 17
        }
      ]
    },
    {
      "cell_type": "markdown",
      "source": [
        "## 3.2 Final Output"
      ],
      "metadata": {
        "id": "O9D82a48908O"
      }
    },
    {
      "cell_type": "code",
      "source": [
        "response.outputs[2].content"
      ],
      "metadata": {
        "colab": {
          "base_uri": "https://localhost:8080/",
          "height": 35
        },
        "id": "DNnE1OkOw85S",
        "outputId": "72cd6cf6-f0a7-462f-85f0-ccbc8909c650"
      },
      "execution_count": null,
      "outputs": [
        {
          "output_type": "execute_result",
          "data": {
            "text/plain": [
              "'The solutions to the quadratic equation \\\\(2x^2 + 3x - 2 = 0\\\\) are \\\\(x = 0.5\\\\) and \\\\(x = -2.0\\\\).'"
            ],
            "application/vnd.google.colaboratory.intrinsic+json": {
              "type": "string"
            }
          },
          "metadata": {},
          "execution_count": 26
        }
      ]
    },
    {
      "cell_type": "markdown",
      "source": [
        "## 3.3 Executed Code"
      ],
      "metadata": {
        "id": "JL4uHR-B93s7"
      }
    },
    {
      "cell_type": "code",
      "source": [
        "print(response.outputs[1].info['code'])"
      ],
      "metadata": {
        "colab": {
          "base_uri": "https://localhost:8080/"
        },
        "id": "tFXNNM7axMsD",
        "outputId": "0620978e-8f81-49ea-9438-5b8c2f08ad58"
      },
      "execution_count": null,
      "outputs": [
        {
          "output_type": "stream",
          "name": "stdout",
          "text": [
            "# Coefficients from the quadratic equation: 2x² + 3x - 2 = 0\n",
            "import math\n",
            "\n",
            "# Define the coefficients\n",
            "a = 2\n",
            "b = 3\n",
            "c = -2\n",
            "\n",
            "# Calculate the discriminant\n",
            "D = b**2 - 4*a*c\n",
            "\n",
            "# Calculate the two solutions\n",
            "x1 = (-b + math.sqrt(D)) / (2*a)\n",
            "x2 = (-b - math.sqrt(D)) / (2*a)\n",
            "\n",
            "x1, x2\n"
          ]
        }
      ]
    },
    {
      "cell_type": "markdown",
      "source": [
        "## 3.4 Continuing the conversation\n",
        "This ensures that the agent retains the context and builds upon the previous interactions, allowing for a more natural and coherent dialogue."
      ],
      "metadata": {
        "id": "LqhlTjak-UOB"
      }
    },
    {
      "cell_type": "code",
      "source": [
        "response = client.beta.conversations.append(\n",
        "    conversation_id=response.conversation_id, inputs=\"Plot the function f(x) = 2x² + 3x - 2\"\n",
        ")"
      ],
      "metadata": {
        "id": "UIlWgyH0xS_S"
      },
      "execution_count": null,
      "outputs": []
    },
    {
      "cell_type": "code",
      "source": [
        "response.outputs[2].content[1].text"
      ],
      "metadata": {
        "colab": {
          "base_uri": "https://localhost:8080/",
          "height": 53
        },
        "id": "aO0_X3w_1RE0",
        "outputId": "34ae816f-48e0-44b2-e338-b0cfbfc34133"
      },
      "execution_count": null,
      "outputs": [
        {
          "output_type": "execute_result",
          "data": {
            "text/plain": [
              "'Here is the plot of the function \\\\( f(x) = 2x^2 + 3x - 2 \\\\). It is a parabola opening upwards, characteristic of quadratic functions with a positive coefficient for \\\\(x^2\\\\). The roots of the equation, where the curve intersects the x-axis, are at \\\\(x = 0.5\\\\) and \\\\(x = -2.0\\\\), as previously calculated.'"
            ],
            "application/vnd.google.colaboratory.intrinsic+json": {
              "type": "string"
            }
          },
          "metadata": {},
          "execution_count": 60
        }
      ]
    },
    {
      "cell_type": "code",
      "source": [
        "print(response.outputs[1].info['code'])"
      ],
      "metadata": {
        "colab": {
          "base_uri": "https://localhost:8080/"
        },
        "id": "6W0UeIO0-tTN",
        "outputId": "b09e1607-83f0-424f-a868-16939cf36bd7"
      },
      "execution_count": null,
      "outputs": [
        {
          "output_type": "stream",
          "name": "stdout",
          "text": [
            "import numpy as np\n",
            "import matplotlib.pyplot as plt\n",
            "\n",
            "# Define the function\n",
            "def f(x):\n",
            "    return 2*x**2 + 3*x - 2\n",
            "\n",
            "# Generate x values\n",
            "x_values = np.linspace(-5, 5, 400)\n",
            "# Calculate corresponding y values\n",
            "y_values = f(x_values)\n",
            "\n",
            "# Plot the function\n",
            "plt.figure(figsize=(8, 6))\n",
            "plt.plot(x_values, y_values, label='$f(x) = 2x^2 + 3x - 2$')\n",
            "plt.title('Plot of the function $f(x) = 2x^2 + 3x - 2$')\n",
            "plt.xlabel('x')\n",
            "plt.ylabel('f(x)')\n",
            "plt.axhline(0, color='black', linewidth=0.8)  # x-axis\n",
            "plt.axvline(0, color='black', linewidth=0.8)  # y-axis\n",
            "plt.grid(True)\n",
            "plt.legend()\n",
            "plt.show()\n"
          ]
        }
      ]
    },
    {
      "cell_type": "markdown",
      "source": [
        "## 3.5 Downloading the generated image and plotting it"
      ],
      "metadata": {
        "id": "kvmUc8uf-m0u"
      }
    },
    {
      "cell_type": "code",
      "source": [
        "file_id = response.outputs[2].content[0].file_id\n",
        "file_bytes = client.files.download(file_id=file_id).read()"
      ],
      "metadata": {
        "id": "ZCahrQxa5MmQ"
      },
      "execution_count": null,
      "outputs": []
    },
    {
      "cell_type": "code",
      "source": [
        "with open(f\"image_generated.png\", \"wb\") as file:\n",
        "    file.write(file_bytes)"
      ],
      "metadata": {
        "id": "kmo3re1X6L7Z"
      },
      "execution_count": null,
      "outputs": []
    },
    {
      "cell_type": "markdown",
      "source": [
        "This will download the generated image as ***image_generated.png*** in the current directory. We can display the the same using the following code"
      ],
      "metadata": {
        "id": "mPTqFijV-8ha"
      }
    },
    {
      "cell_type": "code",
      "source": [
        "from IPython.display import Image, display\n",
        "image_path = \"image_generated.png\"\n",
        "\n",
        "display(Image(filename=image_path))"
      ],
      "metadata": {
        "colab": {
          "base_uri": "https://localhost:8080/",
          "height": 568
        },
        "id": "zaWmtreN6XCK",
        "outputId": "3996e59a-4e38-46cc-99fb-abc367be1c99"
      },
      "execution_count": null,
      "outputs": [
        {
          "output_type": "display_data",
          "data": {
            "image/png": "[encoded data removed]",
            "text/plain": [
              "<IPython.core.display.Image object>"
            ]
          },
          "metadata": {}
        }
      ]
    }
  ]
}